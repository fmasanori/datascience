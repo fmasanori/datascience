{
 "cells": [
  {
   "cell_type": "code",
   "execution_count": 8,
   "metadata": {},
   "outputs": [],
   "source": [
    "import pandas as pd"
   ]
  },
  {
   "cell_type": "code",
   "execution_count": null,
   "metadata": {},
   "outputs": [],
   "source": []
  },
  {
   "cell_type": "code",
   "execution_count": 9,
   "metadata": {},
   "outputs": [],
   "source": [
    "from pandas import Series, DataFrame"
   ]
  },
  {
   "cell_type": "code",
   "execution_count": null,
   "metadata": {},
   "outputs": [],
   "source": []
  },
  {
   "cell_type": "code",
   "execution_count": 10,
   "metadata": {},
   "outputs": [
    {
     "data": {
      "text/html": [
       "<div>\n",
       "<style scoped>\n",
       "    .dataframe tbody tr th:only-of-type {\n",
       "        vertical-align: middle;\n",
       "    }\n",
       "\n",
       "    .dataframe tbody tr th {\n",
       "        vertical-align: top;\n",
       "    }\n",
       "\n",
       "    .dataframe thead th {\n",
       "        text-align: right;\n",
       "    }\n",
       "</style>\n",
       "<table border=\"1\" class=\"dataframe\">\n",
       "  <thead>\n",
       "    <tr style=\"text-align: right;\">\n",
       "      <th></th>\n",
       "      <th>txNomeParlamentar</th>\n",
       "      <th>ideCadastro</th>\n",
       "      <th>nuCarteiraParlamentar</th>\n",
       "      <th>nuLegislatura</th>\n",
       "      <th>sgUF</th>\n",
       "      <th>sgPartido</th>\n",
       "      <th>codLegislatura</th>\n",
       "      <th>numSubCota</th>\n",
       "      <th>txtDescricao</th>\n",
       "      <th>numEspecificacaoSubCota</th>\n",
       "      <th>...</th>\n",
       "      <th>numMes</th>\n",
       "      <th>numAno</th>\n",
       "      <th>numParcela</th>\n",
       "      <th>txtPassageiro</th>\n",
       "      <th>txtTrecho</th>\n",
       "      <th>numLote</th>\n",
       "      <th>numRessarcimento</th>\n",
       "      <th>vlrRestituicao</th>\n",
       "      <th>nuDeputadoId</th>\n",
       "      <th>ideDocumento</th>\n",
       "    </tr>\n",
       "  </thead>\n",
       "  <tbody>\n",
       "    <tr>\n",
       "      <th>0</th>\n",
       "      <td>ABEL MESQUITA JR.</td>\n",
       "      <td>178957.0</td>\n",
       "      <td>1.0</td>\n",
       "      <td>2015.0</td>\n",
       "      <td>RR</td>\n",
       "      <td>DEM</td>\n",
       "      <td>55.0</td>\n",
       "      <td>3</td>\n",
       "      <td>COMBUSTÍVEIS E LUBRIFICANTES.</td>\n",
       "      <td>1</td>\n",
       "      <td>...</td>\n",
       "      <td>2</td>\n",
       "      <td>2018</td>\n",
       "      <td>0</td>\n",
       "      <td>NaN</td>\n",
       "      <td>NaN</td>\n",
       "      <td>1471159</td>\n",
       "      <td>NaN</td>\n",
       "      <td>NaN</td>\n",
       "      <td>3074</td>\n",
       "      <td>6519085</td>\n",
       "    </tr>\n",
       "    <tr>\n",
       "      <th>1</th>\n",
       "      <td>ABEL MESQUITA JR.</td>\n",
       "      <td>178957.0</td>\n",
       "      <td>1.0</td>\n",
       "      <td>2015.0</td>\n",
       "      <td>RR</td>\n",
       "      <td>DEM</td>\n",
       "      <td>55.0</td>\n",
       "      <td>3</td>\n",
       "      <td>COMBUSTÍVEIS E LUBRIFICANTES.</td>\n",
       "      <td>1</td>\n",
       "      <td>...</td>\n",
       "      <td>4</td>\n",
       "      <td>2018</td>\n",
       "      <td>0</td>\n",
       "      <td>NaN</td>\n",
       "      <td>NaN</td>\n",
       "      <td>1497012</td>\n",
       "      <td>NaN</td>\n",
       "      <td>NaN</td>\n",
       "      <td>3074</td>\n",
       "      <td>6586329</td>\n",
       "    </tr>\n",
       "    <tr>\n",
       "      <th>2</th>\n",
       "      <td>ABEL MESQUITA JR.</td>\n",
       "      <td>178957.0</td>\n",
       "      <td>1.0</td>\n",
       "      <td>2015.0</td>\n",
       "      <td>RR</td>\n",
       "      <td>DEM</td>\n",
       "      <td>55.0</td>\n",
       "      <td>3</td>\n",
       "      <td>COMBUSTÍVEIS E LUBRIFICANTES.</td>\n",
       "      <td>1</td>\n",
       "      <td>...</td>\n",
       "      <td>3</td>\n",
       "      <td>2018</td>\n",
       "      <td>0</td>\n",
       "      <td>NaN</td>\n",
       "      <td>NaN</td>\n",
       "      <td>1471173</td>\n",
       "      <td>NaN</td>\n",
       "      <td>NaN</td>\n",
       "      <td>3074</td>\n",
       "      <td>6519234</td>\n",
       "    </tr>\n",
       "    <tr>\n",
       "      <th>3</th>\n",
       "      <td>ABEL MESQUITA JR.</td>\n",
       "      <td>178957.0</td>\n",
       "      <td>1.0</td>\n",
       "      <td>2015.0</td>\n",
       "      <td>RR</td>\n",
       "      <td>DEM</td>\n",
       "      <td>55.0</td>\n",
       "      <td>3</td>\n",
       "      <td>COMBUSTÍVEIS E LUBRIFICANTES.</td>\n",
       "      <td>1</td>\n",
       "      <td>...</td>\n",
       "      <td>3</td>\n",
       "      <td>2018</td>\n",
       "      <td>0</td>\n",
       "      <td>NaN</td>\n",
       "      <td>NaN</td>\n",
       "      <td>1483154</td>\n",
       "      <td>NaN</td>\n",
       "      <td>NaN</td>\n",
       "      <td>3074</td>\n",
       "      <td>6549679</td>\n",
       "    </tr>\n",
       "    <tr>\n",
       "      <th>4</th>\n",
       "      <td>ABEL MESQUITA JR.</td>\n",
       "      <td>178957.0</td>\n",
       "      <td>1.0</td>\n",
       "      <td>2015.0</td>\n",
       "      <td>RR</td>\n",
       "      <td>DEM</td>\n",
       "      <td>55.0</td>\n",
       "      <td>3</td>\n",
       "      <td>COMBUSTÍVEIS E LUBRIFICANTES.</td>\n",
       "      <td>1</td>\n",
       "      <td>...</td>\n",
       "      <td>1</td>\n",
       "      <td>2018</td>\n",
       "      <td>0</td>\n",
       "      <td>NaN</td>\n",
       "      <td>NaN</td>\n",
       "      <td>1463325</td>\n",
       "      <td>NaN</td>\n",
       "      <td>NaN</td>\n",
       "      <td>3074</td>\n",
       "      <td>6498316</td>\n",
       "    </tr>\n",
       "  </tbody>\n",
       "</table>\n",
       "<p>5 rows × 29 columns</p>\n",
       "</div>"
      ],
      "text/plain": [
       "   txNomeParlamentar  ideCadastro  nuCarteiraParlamentar  nuLegislatura sgUF  \\\n",
       "0  ABEL MESQUITA JR.     178957.0                    1.0         2015.0   RR   \n",
       "1  ABEL MESQUITA JR.     178957.0                    1.0         2015.0   RR   \n",
       "2  ABEL MESQUITA JR.     178957.0                    1.0         2015.0   RR   \n",
       "3  ABEL MESQUITA JR.     178957.0                    1.0         2015.0   RR   \n",
       "4  ABEL MESQUITA JR.     178957.0                    1.0         2015.0   RR   \n",
       "\n",
       "  sgPartido  codLegislatura  numSubCota                   txtDescricao  \\\n",
       "0       DEM            55.0           3  COMBUSTÍVEIS E LUBRIFICANTES.   \n",
       "1       DEM            55.0           3  COMBUSTÍVEIS E LUBRIFICANTES.   \n",
       "2       DEM            55.0           3  COMBUSTÍVEIS E LUBRIFICANTES.   \n",
       "3       DEM            55.0           3  COMBUSTÍVEIS E LUBRIFICANTES.   \n",
       "4       DEM            55.0           3  COMBUSTÍVEIS E LUBRIFICANTES.   \n",
       "\n",
       "   numEspecificacaoSubCota  ... numMes numAno numParcela txtPassageiro  \\\n",
       "0                        1  ...      2   2018          0           NaN   \n",
       "1                        1  ...      4   2018          0           NaN   \n",
       "2                        1  ...      3   2018          0           NaN   \n",
       "3                        1  ...      3   2018          0           NaN   \n",
       "4                        1  ...      1   2018          0           NaN   \n",
       "\n",
       "   txtTrecho  numLote numRessarcimento vlrRestituicao nuDeputadoId  \\\n",
       "0        NaN  1471159              NaN            NaN         3074   \n",
       "1        NaN  1497012              NaN            NaN         3074   \n",
       "2        NaN  1471173              NaN            NaN         3074   \n",
       "3        NaN  1483154              NaN            NaN         3074   \n",
       "4        NaN  1463325              NaN            NaN         3074   \n",
       "\n",
       "   ideDocumento  \n",
       "0       6519085  \n",
       "1       6586329  \n",
       "2       6519234  \n",
       "3       6549679  \n",
       "4       6498316  \n",
       "\n",
       "[5 rows x 29 columns]"
      ]
     },
     "execution_count": 10,
     "metadata": {},
     "output_type": "execute_result"
    }
   ],
   "source": [
    "df = pd.read_csv('./Ano-2018.csv', low_memory=False,delimiter=';', encoding='UTF-8', decimal=',')\n",
    "df.head()"
   ]
  },
  {
   "cell_type": "code",
   "execution_count": null,
   "metadata": {},
   "outputs": [],
   "source": []
  },
  {
   "cell_type": "code",
   "execution_count": 11,
   "metadata": {},
   "outputs": [
    {
     "data": {
      "text/html": [
       "<div>\n",
       "<style scoped>\n",
       "    .dataframe tbody tr th:only-of-type {\n",
       "        vertical-align: middle;\n",
       "    }\n",
       "\n",
       "    .dataframe tbody tr th {\n",
       "        vertical-align: top;\n",
       "    }\n",
       "\n",
       "    .dataframe thead th {\n",
       "        text-align: right;\n",
       "    }\n",
       "</style>\n",
       "<table border=\"1\" class=\"dataframe\">\n",
       "  <thead>\n",
       "    <tr style=\"text-align: right;\">\n",
       "      <th></th>\n",
       "      <th>txNomeParlamentar</th>\n",
       "      <th>ideCadastro</th>\n",
       "      <th>nuCarteiraParlamentar</th>\n",
       "      <th>nuLegislatura</th>\n",
       "      <th>sgUF</th>\n",
       "      <th>sgPartido</th>\n",
       "      <th>codLegislatura</th>\n",
       "      <th>numSubCota</th>\n",
       "      <th>txtDescricao</th>\n",
       "      <th>numEspecificacaoSubCota</th>\n",
       "      <th>...</th>\n",
       "      <th>numMes</th>\n",
       "      <th>numAno</th>\n",
       "      <th>numParcela</th>\n",
       "      <th>txtPassageiro</th>\n",
       "      <th>txtTrecho</th>\n",
       "      <th>numLote</th>\n",
       "      <th>numRessarcimento</th>\n",
       "      <th>vlrRestituicao</th>\n",
       "      <th>nuDeputadoId</th>\n",
       "      <th>ideDocumento</th>\n",
       "    </tr>\n",
       "  </thead>\n",
       "  <tbody>\n",
       "    <tr>\n",
       "      <th>0</th>\n",
       "      <td>ABEL MESQUITA JR.</td>\n",
       "      <td>178957.0</td>\n",
       "      <td>1.0</td>\n",
       "      <td>2015.0</td>\n",
       "      <td>RR</td>\n",
       "      <td>DEM</td>\n",
       "      <td>55.0</td>\n",
       "      <td>3</td>\n",
       "      <td>COMBUSTÍVEIS E LUBRIFICANTES.</td>\n",
       "      <td>1</td>\n",
       "      <td>...</td>\n",
       "      <td>2</td>\n",
       "      <td>2018</td>\n",
       "      <td>0</td>\n",
       "      <td>NaN</td>\n",
       "      <td>NaN</td>\n",
       "      <td>1471159</td>\n",
       "      <td>NaN</td>\n",
       "      <td>NaN</td>\n",
       "      <td>3074</td>\n",
       "      <td>6519085</td>\n",
       "    </tr>\n",
       "    <tr>\n",
       "      <th>1</th>\n",
       "      <td>ABEL MESQUITA JR.</td>\n",
       "      <td>178957.0</td>\n",
       "      <td>1.0</td>\n",
       "      <td>2015.0</td>\n",
       "      <td>RR</td>\n",
       "      <td>DEM</td>\n",
       "      <td>55.0</td>\n",
       "      <td>3</td>\n",
       "      <td>COMBUSTÍVEIS E LUBRIFICANTES.</td>\n",
       "      <td>1</td>\n",
       "      <td>...</td>\n",
       "      <td>4</td>\n",
       "      <td>2018</td>\n",
       "      <td>0</td>\n",
       "      <td>NaN</td>\n",
       "      <td>NaN</td>\n",
       "      <td>1497012</td>\n",
       "      <td>NaN</td>\n",
       "      <td>NaN</td>\n",
       "      <td>3074</td>\n",
       "      <td>6586329</td>\n",
       "    </tr>\n",
       "    <tr>\n",
       "      <th>2</th>\n",
       "      <td>ABEL MESQUITA JR.</td>\n",
       "      <td>178957.0</td>\n",
       "      <td>1.0</td>\n",
       "      <td>2015.0</td>\n",
       "      <td>RR</td>\n",
       "      <td>DEM</td>\n",
       "      <td>55.0</td>\n",
       "      <td>3</td>\n",
       "      <td>COMBUSTÍVEIS E LUBRIFICANTES.</td>\n",
       "      <td>1</td>\n",
       "      <td>...</td>\n",
       "      <td>3</td>\n",
       "      <td>2018</td>\n",
       "      <td>0</td>\n",
       "      <td>NaN</td>\n",
       "      <td>NaN</td>\n",
       "      <td>1471173</td>\n",
       "      <td>NaN</td>\n",
       "      <td>NaN</td>\n",
       "      <td>3074</td>\n",
       "      <td>6519234</td>\n",
       "    </tr>\n",
       "    <tr>\n",
       "      <th>3</th>\n",
       "      <td>ABEL MESQUITA JR.</td>\n",
       "      <td>178957.0</td>\n",
       "      <td>1.0</td>\n",
       "      <td>2015.0</td>\n",
       "      <td>RR</td>\n",
       "      <td>DEM</td>\n",
       "      <td>55.0</td>\n",
       "      <td>3</td>\n",
       "      <td>COMBUSTÍVEIS E LUBRIFICANTES.</td>\n",
       "      <td>1</td>\n",
       "      <td>...</td>\n",
       "      <td>3</td>\n",
       "      <td>2018</td>\n",
       "      <td>0</td>\n",
       "      <td>NaN</td>\n",
       "      <td>NaN</td>\n",
       "      <td>1483154</td>\n",
       "      <td>NaN</td>\n",
       "      <td>NaN</td>\n",
       "      <td>3074</td>\n",
       "      <td>6549679</td>\n",
       "    </tr>\n",
       "    <tr>\n",
       "      <th>4</th>\n",
       "      <td>ABEL MESQUITA JR.</td>\n",
       "      <td>178957.0</td>\n",
       "      <td>1.0</td>\n",
       "      <td>2015.0</td>\n",
       "      <td>RR</td>\n",
       "      <td>DEM</td>\n",
       "      <td>55.0</td>\n",
       "      <td>3</td>\n",
       "      <td>COMBUSTÍVEIS E LUBRIFICANTES.</td>\n",
       "      <td>1</td>\n",
       "      <td>...</td>\n",
       "      <td>1</td>\n",
       "      <td>2018</td>\n",
       "      <td>0</td>\n",
       "      <td>NaN</td>\n",
       "      <td>NaN</td>\n",
       "      <td>1463325</td>\n",
       "      <td>NaN</td>\n",
       "      <td>NaN</td>\n",
       "      <td>3074</td>\n",
       "      <td>6498316</td>\n",
       "    </tr>\n",
       "  </tbody>\n",
       "</table>\n",
       "<p>5 rows × 29 columns</p>\n",
       "</div>"
      ],
      "text/plain": [
       "   txNomeParlamentar  ideCadastro  nuCarteiraParlamentar  nuLegislatura sgUF  \\\n",
       "0  ABEL MESQUITA JR.     178957.0                    1.0         2015.0   RR   \n",
       "1  ABEL MESQUITA JR.     178957.0                    1.0         2015.0   RR   \n",
       "2  ABEL MESQUITA JR.     178957.0                    1.0         2015.0   RR   \n",
       "3  ABEL MESQUITA JR.     178957.0                    1.0         2015.0   RR   \n",
       "4  ABEL MESQUITA JR.     178957.0                    1.0         2015.0   RR   \n",
       "\n",
       "  sgPartido  codLegislatura  numSubCota                   txtDescricao  \\\n",
       "0       DEM            55.0           3  COMBUSTÍVEIS E LUBRIFICANTES.   \n",
       "1       DEM            55.0           3  COMBUSTÍVEIS E LUBRIFICANTES.   \n",
       "2       DEM            55.0           3  COMBUSTÍVEIS E LUBRIFICANTES.   \n",
       "3       DEM            55.0           3  COMBUSTÍVEIS E LUBRIFICANTES.   \n",
       "4       DEM            55.0           3  COMBUSTÍVEIS E LUBRIFICANTES.   \n",
       "\n",
       "   numEspecificacaoSubCota  ... numMes numAno numParcela txtPassageiro  \\\n",
       "0                        1  ...      2   2018          0           NaN   \n",
       "1                        1  ...      4   2018          0           NaN   \n",
       "2                        1  ...      3   2018          0           NaN   \n",
       "3                        1  ...      3   2018          0           NaN   \n",
       "4                        1  ...      1   2018          0           NaN   \n",
       "\n",
       "   txtTrecho  numLote numRessarcimento vlrRestituicao nuDeputadoId  \\\n",
       "0        NaN  1471159              NaN            NaN         3074   \n",
       "1        NaN  1497012              NaN            NaN         3074   \n",
       "2        NaN  1471173              NaN            NaN         3074   \n",
       "3        NaN  1483154              NaN            NaN         3074   \n",
       "4        NaN  1463325              NaN            NaN         3074   \n",
       "\n",
       "   ideDocumento  \n",
       "0       6519085  \n",
       "1       6586329  \n",
       "2       6519234  \n",
       "3       6549679  \n",
       "4       6498316  \n",
       "\n",
       "[5 rows x 29 columns]"
      ]
     },
     "execution_count": 11,
     "metadata": {},
     "output_type": "execute_result"
    }
   ],
   "source": [
    "df = pd.read_csv('./gastos-deputados-2018.csv', low_memory=False,delimiter=';', encoding='UTF-8', decimal=',')\n",
    "df.head()"
   ]
  },
  {
   "cell_type": "code",
   "execution_count": 4,
   "metadata": {},
   "outputs": [
    {
     "data": {
      "text/plain": [
       "<matplotlib.axes._subplots.AxesSubplot at 0xabd8450>"
      ]
     },
     "execution_count": 4,
     "metadata": {},
     "output_type": "execute_result"
    }
   ],
   "source": [
    "df.groupby('txtDescricao').size().sort_values().plot(kind='barh')"
   ]
  },
  {
   "cell_type": "code",
   "execution_count": 5,
   "metadata": {},
   "outputs": [
    {
     "data": {
      "text/plain": [
       "<matplotlib.axes._subplots.AxesSubplot at 0xbde0330>"
      ]
     },
     "execution_count": 5,
     "metadata": {},
     "output_type": "execute_result"
    },
    {
     "data": {
      "image/png": "[encoded data removed]",
      "text/plain": [
       "<Figure size 720x720 with 1 Axes>"
      ]
     },
     "metadata": {
      "needs_background": "light"
     },
     "output_type": "display_data"
    }
   ],
   "source": [
    "df.groupby('txtDescricao').size().sort_values().tail(20).plot(kind='barh', figsize=(10,10))"
   ]
  },
  {
   "cell_type": "code",
   "execution_count": 12,
   "metadata": {},
   "outputs": [
    {
     "data": {
      "text/plain": [
       "<bound method DataFrame.info of         txNomeParlamentar  ideCadastro  nuCarteiraParlamentar  nuLegislatura  \\\n",
       "0       ABEL MESQUITA JR.     178957.0                    1.0         2015.0   \n",
       "1       ABEL MESQUITA JR.     178957.0                    1.0         2015.0   \n",
       "2       ABEL MESQUITA JR.     178957.0                    1.0         2015.0   \n",
       "3       ABEL MESQUITA JR.     178957.0                    1.0         2015.0   \n",
       "4       ABEL MESQUITA JR.     178957.0                    1.0         2015.0   \n",
       "5       ABEL MESQUITA JR.     178957.0                    1.0         2015.0   \n",
       "6       ABEL MESQUITA JR.     178957.0                    1.0         2015.0   \n",
       "7       ABEL MESQUITA JR.     178957.0                    1.0         2015.0   \n",
       "8       ABEL MESQUITA JR.     178957.0                    1.0         2015.0   \n",
       "9       ABEL MESQUITA JR.     178957.0                    1.0         2015.0   \n",
       "10      ABEL MESQUITA JR.     178957.0                    1.0         2015.0   \n",
       "11      ABEL MESQUITA JR.     178957.0                    1.0         2015.0   \n",
       "12      ABEL MESQUITA JR.     178957.0                    1.0         2015.0   \n",
       "13      ABEL MESQUITA JR.     178957.0                    1.0         2015.0   \n",
       "14      ABEL MESQUITA JR.     178957.0                    1.0         2015.0   \n",
       "15      ABEL MESQUITA JR.     178957.0                    1.0         2015.0   \n",
       "16      ABEL MESQUITA JR.     178957.0                    1.0         2015.0   \n",
       "17      ABEL MESQUITA JR.     178957.0                    1.0         2015.0   \n",
       "18      ABEL MESQUITA JR.     178957.0                    1.0         2015.0   \n",
       "19      ABEL MESQUITA JR.     178957.0                    1.0         2015.0   \n",
       "20      ABEL MESQUITA JR.     178957.0                    1.0         2015.0   \n",
       "21      ABEL MESQUITA JR.     178957.0                    1.0         2015.0   \n",
       "22      ABEL MESQUITA JR.     178957.0                    1.0         2015.0   \n",
       "23      ABEL MESQUITA JR.     178957.0                    1.0         2015.0   \n",
       "24      ABEL MESQUITA JR.     178957.0                    1.0         2015.0   \n",
       "25      ABEL MESQUITA JR.     178957.0                    1.0         2015.0   \n",
       "26      ABEL MESQUITA JR.     178957.0                    1.0         2015.0   \n",
       "27      ABEL MESQUITA JR.     178957.0                    1.0         2015.0   \n",
       "28      ABEL MESQUITA JR.     178957.0                    1.0         2015.0   \n",
       "29      ABEL MESQUITA JR.     178957.0                    1.0         2015.0   \n",
       "...                   ...          ...                    ...            ...   \n",
       "276303       ZENAIDE MAIA     178949.0                  126.0         2015.0   \n",
       "276304       ZENAIDE MAIA     178949.0                  126.0         2015.0   \n",
       "276305       ZENAIDE MAIA     178949.0                  126.0         2015.0   \n",
       "276306       ZENAIDE MAIA     178949.0                  126.0         2015.0   \n",
       "276307       ZENAIDE MAIA     178949.0                  126.0         2015.0   \n",
       "276308       ZENAIDE MAIA     178949.0                  126.0         2015.0   \n",
       "276309       ZENAIDE MAIA     178949.0                  126.0         2015.0   \n",
       "276310       ZENAIDE MAIA     178949.0                  126.0         2015.0   \n",
       "276311       ZENAIDE MAIA     178949.0                  126.0         2015.0   \n",
       "276312       ZENAIDE MAIA     178949.0                  126.0         2015.0   \n",
       "276313       ZENAIDE MAIA     178949.0                  126.0         2015.0   \n",
       "276314       ZENAIDE MAIA     178949.0                  126.0         2015.0   \n",
       "276315       ZENAIDE MAIA     178949.0                  126.0         2015.0   \n",
       "276316       ZENAIDE MAIA     178949.0                  126.0         2015.0   \n",
       "276317       ZENAIDE MAIA     178949.0                  126.0         2015.0   \n",
       "276318       ZENAIDE MAIA     178949.0                  126.0         2015.0   \n",
       "276319       ZENAIDE MAIA     178949.0                  126.0         2015.0   \n",
       "276320       ZENAIDE MAIA     178949.0                  126.0         2015.0   \n",
       "276321       ZENAIDE MAIA     178949.0                  126.0         2015.0   \n",
       "276322       ZENAIDE MAIA     178949.0                  126.0         2015.0   \n",
       "276323       ZENAIDE MAIA     178949.0                  126.0         2015.0   \n",
       "276324       ZENAIDE MAIA     178949.0                  126.0         2015.0   \n",
       "276325       ZENAIDE MAIA     178949.0                  126.0         2015.0   \n",
       "276326       ZENAIDE MAIA     178949.0                  126.0         2015.0   \n",
       "276327       ZENAIDE MAIA     178949.0                  126.0         2015.0   \n",
       "276328       ZENAIDE MAIA     178949.0                  126.0         2015.0   \n",
       "276329       ZENAIDE MAIA     178949.0                  126.0         2015.0   \n",
       "276330       ZENAIDE MAIA     178949.0                  126.0         2015.0   \n",
       "276331       ZENAIDE MAIA     178949.0                  126.0         2015.0   \n",
       "276332       ZENAIDE MAIA     178949.0                  126.0         2015.0   \n",
       "\n",
       "       sgUF sgPartido  codLegislatura  numSubCota  \\\n",
       "0        RR       DEM            55.0           3   \n",
       "1        RR       DEM            55.0           3   \n",
       "2        RR       DEM            55.0           3   \n",
       "3        RR       DEM            55.0           3   \n",
       "4        RR       DEM            55.0           3   \n",
       "5        RR       DEM            55.0           3   \n",
       "6        RR       DEM            55.0           3   \n",
       "7        RR       DEM            55.0           3   \n",
       "8        RR       DEM            55.0           3   \n",
       "9        RR       DEM            55.0           3   \n",
       "10       RR       DEM            55.0           3   \n",
       "11       RR       DEM            55.0           3   \n",
       "12       RR       DEM            55.0           3   \n",
       "13       RR       DEM            55.0           3   \n",
       "14       RR       DEM            55.0           3   \n",
       "15       RR       DEM            55.0           3   \n",
       "16       RR       DEM            55.0           3   \n",
       "17       RR       DEM            55.0           3   \n",
       "18       RR       DEM            55.0           3   \n",
       "19       RR       DEM            55.0           3   \n",
       "20       RR       DEM            55.0           3   \n",
       "21       RR       DEM            55.0           3   \n",
       "22       RR       DEM            55.0           3   \n",
       "23       RR       DEM            55.0           3   \n",
       "24       RR       DEM            55.0           3   \n",
       "25       RR       DEM            55.0           3   \n",
       "26       RR       DEM            55.0           3   \n",
       "27       RR       DEM            55.0           3   \n",
       "28       RR       DEM            55.0           3   \n",
       "29       RR       DEM            55.0           3   \n",
       "...     ...       ...             ...         ...   \n",
       "276303   RN       PHS            55.0         999   \n",
       "276304   RN       PHS            55.0         999   \n",
       "276305   RN       PHS            55.0         999   \n",
       "276306   RN       PHS            55.0         999   \n",
       "276307   RN       PHS            55.0         999   \n",
       "276308   RN       PHS            55.0         999   \n",
       "276309   RN       PHS            55.0         999   \n",
       "276310   RN       PHS            55.0         999   \n",
       "276311   RN       PHS            55.0         999   \n",
       "276312   RN       PHS            55.0         999   \n",
       "276313   RN       PHS            55.0         999   \n",
       "276314   RN       PHS            55.0         999   \n",
       "276315   RN       PHS            55.0         999   \n",
       "276316   RN       PHS            55.0         999   \n",
       "276317   RN       PHS            55.0         999   \n",
       "276318   RN       PHS            55.0         999   \n",
       "276319   RN       PHS            55.0         999   \n",
       "276320   RN       PHS            55.0         999   \n",
       "276321   RN       PHS            55.0         999   \n",
       "276322   RN       PHS            55.0         999   \n",
       "276323   RN       PHS            55.0         999   \n",
       "276324   RN       PHS            55.0         999   \n",
       "276325   RN       PHS            55.0         999   \n",
       "276326   RN       PHS            55.0         999   \n",
       "276327   RN       PHS            55.0         999   \n",
       "276328   RN       PHS            55.0         999   \n",
       "276329   RN       PHS            55.0         999   \n",
       "276330   RN       PHS            55.0         999   \n",
       "276331   RN       PHS            55.0         999   \n",
       "276332   RN       PHS            55.0         999   \n",
       "\n",
       "                         txtDescricao  numEspecificacaoSubCota  ... numMes  \\\n",
       "0       COMBUSTÍVEIS E LUBRIFICANTES.                        1  ...      2   \n",
       "1       COMBUSTÍVEIS E LUBRIFICANTES.                        1  ...      4   \n",
       "2       COMBUSTÍVEIS E LUBRIFICANTES.                        1  ...      3   \n",
       "3       COMBUSTÍVEIS E LUBRIFICANTES.                        1  ...      3   \n",
       "4       COMBUSTÍVEIS E LUBRIFICANTES.                        1  ...      1   \n",
       "5       COMBUSTÍVEIS E LUBRIFICANTES.                        1  ...      4   \n",
       "6       COMBUSTÍVEIS E LUBRIFICANTES.                        1  ...      5   \n",
       "7       COMBUSTÍVEIS E LUBRIFICANTES.                        1  ...      6   \n",
       "8       COMBUSTÍVEIS E LUBRIFICANTES.                        1  ...      9   \n",
       "9       COMBUSTÍVEIS E LUBRIFICANTES.                        1  ...     10   \n",
       "10      COMBUSTÍVEIS E LUBRIFICANTES.                        1  ...      2   \n",
       "11      COMBUSTÍVEIS E LUBRIFICANTES.                        1  ...      6   \n",
       "12      COMBUSTÍVEIS E LUBRIFICANTES.                        1  ...      5   \n",
       "13      COMBUSTÍVEIS E LUBRIFICANTES.                        1  ...      2   \n",
       "14      COMBUSTÍVEIS E LUBRIFICANTES.                        1  ...      2   \n",
       "15      COMBUSTÍVEIS E LUBRIFICANTES.                        1  ...      2   \n",
       "16      COMBUSTÍVEIS E LUBRIFICANTES.                        1  ...      3   \n",
       "17      COMBUSTÍVEIS E LUBRIFICANTES.                        1  ...      3   \n",
       "18      COMBUSTÍVEIS E LUBRIFICANTES.                        1  ...      3   \n",
       "19      COMBUSTÍVEIS E LUBRIFICANTES.                        1  ...      3   \n",
       "20      COMBUSTÍVEIS E LUBRIFICANTES.                        1  ...      3   \n",
       "21      COMBUSTÍVEIS E LUBRIFICANTES.                        1  ...      4   \n",
       "22      COMBUSTÍVEIS E LUBRIFICANTES.                        1  ...      4   \n",
       "23      COMBUSTÍVEIS E LUBRIFICANTES.                        1  ...      6   \n",
       "24      COMBUSTÍVEIS E LUBRIFICANTES.                        1  ...      6   \n",
       "25      COMBUSTÍVEIS E LUBRIFICANTES.                        1  ...      6   \n",
       "26      COMBUSTÍVEIS E LUBRIFICANTES.                        1  ...      6   \n",
       "27      COMBUSTÍVEIS E LUBRIFICANTES.                        1  ...      6   \n",
       "28      COMBUSTÍVEIS E LUBRIFICANTES.                        1  ...      7   \n",
       "29      COMBUSTÍVEIS E LUBRIFICANTES.                        1  ...      7   \n",
       "...                               ...                      ...  ...    ...   \n",
       "276303          Emissão Bilhete Aéreo                        0  ...      8   \n",
       "276304          Emissão Bilhete Aéreo                        0  ...      8   \n",
       "276305          Emissão Bilhete Aéreo                        0  ...     10   \n",
       "276306          Emissão Bilhete Aéreo                        0  ...     10   \n",
       "276307          Emissão Bilhete Aéreo                        0  ...      4   \n",
       "276308          Emissão Bilhete Aéreo                        0  ...      4   \n",
       "276309          Emissão Bilhete Aéreo                        0  ...      6   \n",
       "276310          Emissão Bilhete Aéreo                        0  ...      8   \n",
       "276311          Emissão Bilhete Aéreo                        0  ...      8   \n",
       "276312          Emissão Bilhete Aéreo                        0  ...      5   \n",
       "276313          Emissão Bilhete Aéreo                        0  ...      5   \n",
       "276314          Emissão Bilhete Aéreo                        0  ...      7   \n",
       "276315          Emissão Bilhete Aéreo                        0  ...     10   \n",
       "276316          Emissão Bilhete Aéreo                        0  ...      7   \n",
       "276317          Emissão Bilhete Aéreo                        0  ...      7   \n",
       "276318          Emissão Bilhete Aéreo                        0  ...      5   \n",
       "276319          Emissão Bilhete Aéreo                        0  ...      9   \n",
       "276320          Emissão Bilhete Aéreo                        0  ...      9   \n",
       "276321          Emissão Bilhete Aéreo                        0  ...      4   \n",
       "276322          Emissão Bilhete Aéreo                        0  ...      8   \n",
       "276323          Emissão Bilhete Aéreo                        0  ...      9   \n",
       "276324          Emissão Bilhete Aéreo                        0  ...      9   \n",
       "276325          Emissão Bilhete Aéreo                        0  ...     10   \n",
       "276326          Emissão Bilhete Aéreo                        0  ...      4   \n",
       "276327          Emissão Bilhete Aéreo                        0  ...      3   \n",
       "276328          Emissão Bilhete Aéreo                        0  ...      3   \n",
       "276329          Emissão Bilhete Aéreo                        0  ...      4   \n",
       "276330          Emissão Bilhete Aéreo                        0  ...      8   \n",
       "276331          Emissão Bilhete Aéreo                        0  ...      8   \n",
       "276332          Emissão Bilhete Aéreo                        0  ...      4   \n",
       "\n",
       "       numAno numParcela                  txtPassageiro  txtTrecho  numLote  \\\n",
       "0        2018          0                            NaN        NaN  1471159   \n",
       "1        2018          0                            NaN        NaN  1497012   \n",
       "2        2018          0                            NaN        NaN  1471173   \n",
       "3        2018          0                            NaN        NaN  1483154   \n",
       "4        2018          0                            NaN        NaN  1463325   \n",
       "5        2018          0                            NaN        NaN  1496932   \n",
       "6        2018          0                            NaN        NaN  1510408   \n",
       "7        2018          0                            NaN        NaN  1522267   \n",
       "8        2018          0                            NaN        NaN  1536126   \n",
       "9        2018          0                            NaN        NaN  1542391   \n",
       "10       2018          0                            NaN        NaN  1471159   \n",
       "11       2018          0                            NaN        NaN  1522350   \n",
       "12       2018          0                            NaN        NaN  1522360   \n",
       "13       2018          0                            NaN        NaN  1471159   \n",
       "14       2018          0                            NaN        NaN  1471159   \n",
       "15       2018          0                            NaN        NaN  1471159   \n",
       "16       2018          0                            NaN        NaN  1497004   \n",
       "17       2018          0                            NaN        NaN  1497004   \n",
       "18       2018          0                            NaN        NaN  1497004   \n",
       "19       2018          0                            NaN        NaN  1497004   \n",
       "20       2018          0                            NaN        NaN  1497004   \n",
       "21       2018          0                            NaN        NaN  1497013   \n",
       "22       2018          0                            NaN        NaN  1497013   \n",
       "23       2018          0                            NaN        NaN  1522350   \n",
       "24       2018          0                            NaN        NaN  1522350   \n",
       "25       2018          0                            NaN        NaN  1522350   \n",
       "26       2018          0                            NaN        NaN  1522350   \n",
       "27       2018          0                            NaN        NaN  1522350   \n",
       "28       2018          0                            NaN        NaN  1522338   \n",
       "29       2018          0                            NaN        NaN  1522338   \n",
       "...       ...        ...                            ...        ...      ...   \n",
       "276303   2018          0                   ZENAIDE MAIA    BSB/NAT        0   \n",
       "276304   2018          0                   ZENAIDE MAIA    BSB/NAT        0   \n",
       "276305   2018          0                   ZENAIDE MAIA    BSB/NAT        0   \n",
       "276306   2018          0                   ZENAIDE MAIA    BSB/NAT        0   \n",
       "276307   2018          0                   ZENAIDE MAIA    BSB/NAT        0   \n",
       "276308   2018          0                   ZENAIDE MAIA    BSB/NAT        0   \n",
       "276309   2018          0                   ZENAIDE MAIA    BSB/NAT        0   \n",
       "276310   2018          0                   ZENAIDE MAIA    BSB/BSB        0   \n",
       "276311   2018          0                   ZENAIDE MAIA    BSB/BSB        0   \n",
       "276312   2018          0                   ZENAIDE MAIA    BSB/BSB        0   \n",
       "276313   2018          0                   ZENAIDE MAIA    BSB/BSB        0   \n",
       "276314   2018          0                   ZENAIDE MAIA    BSB/BSB        0   \n",
       "276315   2018          0                   ZENAIDE MAIA    BSB/BSB        0   \n",
       "276316   2018          0                   ZENAIDE MAIA    BSB/BSB        0   \n",
       "276317   2018          0                   ZENAIDE MAIA    BSB/BSB        0   \n",
       "276318   2018          0                   ZENAIDE MAIA    BSB/BSB        0   \n",
       "276319   2018          0                   ZENAIDE MAIA    BSB/BSB        0   \n",
       "276320   2018          0                   ZENAIDE MAIA    BSB/BSB        0   \n",
       "276321   2018          0                   ZENAIDE MAIA    BSB/BSB        0   \n",
       "276322   2018          0                   ZENAIDE MAIA    BSB/NAT        0   \n",
       "276323   2018          0                   ZENAIDE MAIA    BSB/BSB        0   \n",
       "276324   2018          0                   ZENAIDE MAIA    BSB/BSB        0   \n",
       "276325   2018          0                   ZENAIDE MAIA    BSB/BSB        0   \n",
       "276326   2018          0                   ZENAIDE MAIA    BSB/BSB        0   \n",
       "276327   2018          0                   ZENAIDE MAIA    BSB/NAT        0   \n",
       "276328   2018          0                   ZENAIDE MAIA    BSB/NAT        0   \n",
       "276329   2018          0                   ZENAIDE MAIA    NAT/BSB        0   \n",
       "276330   2018          0  ZENAIDE MA CALADOPEIRA SANTOS    BSB/NAT        0   \n",
       "276331   2018          0  ZENAIDE MA CALADOPEIRA SANTOS    BSB/NAT        0   \n",
       "276332   2018          0                   ZENAIDE MAIA    BSB/BSB        0   \n",
       "\n",
       "       numRessarcimento vlrRestituicao nuDeputadoId  ideDocumento  \n",
       "0                   NaN            NaN         3074       6519085  \n",
       "1                   NaN            NaN         3074       6586329  \n",
       "2                   NaN            NaN         3074       6519234  \n",
       "3                   NaN            NaN         3074       6549679  \n",
       "4                   NaN            NaN         3074       6498316  \n",
       "5                   NaN            NaN         3074       6586061  \n",
       "6                   NaN            NaN         3074       6620113  \n",
       "7                   NaN            NaN         3074       6651374  \n",
       "8                   NaN            NaN         3074       6690956  \n",
       "9                   NaN            NaN         3074       6707495  \n",
       "10                  NaN            NaN         3074       6519094  \n",
       "11                  NaN            NaN         3074       6651530  \n",
       "12                  NaN            NaN         3074       6651576  \n",
       "13                  NaN            NaN         3074       6519154  \n",
       "14                  NaN            NaN         3074       6519119  \n",
       "15                  NaN            NaN         3074       6519098  \n",
       "16                  NaN            NaN         3074       6586137  \n",
       "17                  NaN            NaN         3074       6586208  \n",
       "18                  NaN            NaN         3074       6586223  \n",
       "19                  NaN            NaN         3074       6586202  \n",
       "20                  NaN            NaN         3074       6586182  \n",
       "21                  NaN            NaN         3074       6586263  \n",
       "22                  NaN            NaN         3074       6586240  \n",
       "23                  NaN            NaN         3074       6651534  \n",
       "24                  NaN            NaN         3074       6651537  \n",
       "25                  NaN            NaN         3074       6651546  \n",
       "26                  NaN            NaN         3074       6651551  \n",
       "27                  NaN            NaN         3074       6651540  \n",
       "28                  NaN            NaN         3074       6651504  \n",
       "29                  NaN            NaN         3074       6651617  \n",
       "...                 ...            ...          ...           ...  \n",
       "276303              0.0            NaN         2930       1591631  \n",
       "276304              0.0            NaN         2930       1591337  \n",
       "276305              0.0            NaN         2930       1606087  \n",
       "276306              0.0            NaN         2930       1610173  \n",
       "276307              0.0            NaN         2930       1554826  \n",
       "276308              0.0            NaN         2930       1555181  \n",
       "276309              0.0            NaN         2930       1580008  \n",
       "276310              0.0            NaN         2930       1592039  \n",
       "276311              0.0            NaN         2930       1592751  \n",
       "276312              0.0            NaN         2930       1561806  \n",
       "276313              0.0            NaN         2930       1562764  \n",
       "276314              0.0            NaN         2930       1586947  \n",
       "276315              0.0            NaN         2930       1604121  \n",
       "276316              0.0            NaN         2930       1584413  \n",
       "276317              0.0            NaN         2930       1584622  \n",
       "276318              0.0            NaN         2930       1564086  \n",
       "276319              0.0            NaN         2930       1597969  \n",
       "276320              0.0            NaN         2930       1598093  \n",
       "276321              0.0            NaN         2930       1553887  \n",
       "276322              0.0            NaN         2930       1592788  \n",
       "276323              0.0            NaN         2930       1598013  \n",
       "276324              0.0            NaN         2930       1598077  \n",
       "276325              0.0            NaN         2930       1610484  \n",
       "276326              0.0            NaN         2930       1555243  \n",
       "276327              0.0            NaN         2930       1543046  \n",
       "276328              0.0            NaN         2930       1543137  \n",
       "276329              0.0            NaN         2930       1582757  \n",
       "276330              0.0            NaN         2930       1596872  \n",
       "276331              0.0            NaN         2930       1597428  \n",
       "276332              0.0            NaN         2930       1557346  \n",
       "\n",
       "[276333 rows x 29 columns]>"
      ]
     },
     "execution_count": 12,
     "metadata": {},
     "output_type": "execute_result"
    }
   ],
   "source": [
    "df.info"
   ]
  },
  {
   "cell_type": "code",
   "execution_count": 7,
   "metadata": {},
   "outputs": [
    {
     "data": {
      "text/plain": [
       "MARINALDO ROSENDO    813\n",
       "EDUARDO DA FONTE     543\n",
       "ANDRE MOURA          497\n",
       "ARTHUR LIRA          494\n",
       "PEDRO VILELA         455\n",
       "Name: txNomeParlamentar, dtype: int64"
      ]
     },
     "execution_count": 7,
     "metadata": {},
     "output_type": "execute_result"
    }
   ],
   "source": [
    "df.query('txtDescricao == \"Emissão Bilhete Aéreo\"')['txNomeParlamentar'].value_counts().head()"
   ]
  },
  {
   "cell_type": "code",
   "execution_count": 8,
   "metadata": {},
   "outputs": [
    {
     "data": {
      "text/plain": [
       "MARINALDO ROSENDO             813\n",
       "EDUARDO DA FONTE              543\n",
       "ANDRE MOURA                   497\n",
       "ARTHUR LIRA                   494\n",
       "PEDRO VILELA                  455\n",
       "ALEX CANZIANI                 436\n",
       "ALFREDO KAEFER                408\n",
       "SILVIO TORRES                 404\n",
       "WALDIR MARANHÃO               403\n",
       "WOLNEY QUEIROZ                370\n",
       "SORAYA SANTOS                 362\n",
       "ADELSON BARRETO               354\n",
       "ANDRÉ FIGUEIREDO              341\n",
       "PEDRO UCZAI                   338\n",
       "BRUNO ARAÚJO                  333\n",
       "LÚCIO VALE                    331\n",
       "CARLOS SAMPAIO                327\n",
       "FELIPE BORNIER                327\n",
       "EDIO LOPES                    326\n",
       "VALDIR COLATTO                324\n",
       "ZÉ GERALDO                    316\n",
       "MARCELO DELAROLI              315\n",
       "DIEGO ANDRADE                 314\n",
       "HENRIQUE FONTANA              311\n",
       "FÁBIO FARIA                   303\n",
       "RONALDO NOGUEIRA              302\n",
       "ANTONIO BRITO                 302\n",
       "FÁBIO RAMALHO                 298\n",
       "ALICE PORTUGAL                297\n",
       "ESPERIDIÃO AMIN               297\n",
       "                             ... \n",
       "VICENTINHO JÚNIOR              28\n",
       "MAIA FILHO                     27\n",
       "JOSÉ FOGAÇA                    26\n",
       "MARCELO AGUIAR                 25\n",
       "LUCIO VIEIRA LIMA              24\n",
       "MARCELO ORTIZ                  23\n",
       "MOISÉS DINIZ                   23\n",
       "ARIOSTO HOLANDA                22\n",
       "WILSON BESERRA                 22\n",
       "LUCIANO BIVAR                  21\n",
       "SEBASTIÃO OLIVEIRA             20\n",
       "JONES MARTINS                  19\n",
       "WASHINGTON CORAÇÃO VALENTE     16\n",
       "DANIEL VILELA                  16\n",
       "CÉSAR HALUM                    13\n",
       "JOÃO CAMPOS                    12\n",
       "FREIRE JÚNIOR                  12\n",
       "ROBERTO BALESTRA               10\n",
       "CARLOS SOUZA                    9\n",
       "LUCAS VERGILIO                  6\n",
       "XUXU DAL MOLIN                  6\n",
       "HERMES PARCIANELLO              4\n",
       "ROGÉRIO ROSSO                   3\n",
       "RUBENS OTONI                    3\n",
       "IZAQUE SILVA                    2\n",
       "MARCOS ABRÃO                    2\n",
       "FREITAS DO PT                   2\n",
       "ALBERTO FRAGA                   1\n",
       "MARCELO ARO                     1\n",
       "FELIPE SOUZA                    1\n",
       "Name: txNomeParlamentar, Length: 529, dtype: int64"
      ]
     },
     "execution_count": 8,
     "metadata": {},
     "output_type": "execute_result"
    }
   ],
   "source": [
    "df.query('txtDescricao == \"PASSAGENS AÉREAS\"')['txNomeParlamentar'].value_counts()"
   ]
  },
  {
   "cell_type": "code",
   "execution_count": 9,
   "metadata": {},
   "outputs": [
    {
     "data": {
      "text/plain": [
       "SHÉRIDAN                    93\n",
       "MARCOS ROGÉRIO              81\n",
       "MARCELO ARO                 78\n",
       "ALTINEU CÔRTES              78\n",
       "BRUNA FURLAN                71\n",
       "ELIZEU DIONIZIO             69\n",
       "HELDER SALOMÃO              68\n",
       "ALFREDO NASCIMENTO          68\n",
       "RONALDO LESSA               65\n",
       "HERMES PARCIANELLO          42\n",
       "ODORICO MONTEIRO            40\n",
       "FABIO GARCIA                34\n",
       "EDUARDO BOLSONARO           32\n",
       "JOÃO DANIEL                 31\n",
       "LIDERANÇA DO PT             28\n",
       "JOÃO CARLOS BACELAR         23\n",
       "BEBETO                      20\n",
       "RENATO ANDRADE              16\n",
       "LUIZ CARLOS RAMOS           16\n",
       "FRANKLIN                    16\n",
       "PROF. GEDEÃO AMORIM         14\n",
       "HERÁCLITO FORTES            14\n",
       "MARINHA RAUPP               11\n",
       "LUIZIANNE LINS              11\n",
       "ODAIR CUNHA                 11\n",
       "PODE                        11\n",
       "ALUISIO MENDES              10\n",
       "ERON BEZERRA                10\n",
       "ELIZIANE GAMA                9\n",
       "EXPEDITO NETTO               9\n",
       "                            ..\n",
       "PROFESSOR VICTÓRIO GALLI     1\n",
       "AGUINALDO RIBEIRO            1\n",
       "NILTO TATTO                  1\n",
       "FAUSTO PINATO                1\n",
       "ZENAIDE MAIA                 1\n",
       "PADRE JOÃO                   1\n",
       "JÔ MORAES                    1\n",
       "CABO DACIOLO                 1\n",
       "DANILO CABRAL                1\n",
       "LELO COIMBRA                 1\n",
       "GLAUBER BRAGA                1\n",
       "SORAYA SANTOS                1\n",
       "JUSCELINO FILHO              1\n",
       "FÁBIO MITIDIERI              1\n",
       "RODRIGO MARTINS              1\n",
       "ARTHUR LIRA                  1\n",
       "MARCELO MATOS                1\n",
       "MIGUEL HADDAD                1\n",
       "ROSANGELA GOMES              1\n",
       "CELSO PANSERA                1\n",
       "CAPITÃO AUGUSTO              1\n",
       "CELSO JACOB                  1\n",
       "TAKAYAMA                     1\n",
       "DANIEL VILELA                1\n",
       "JOZI ARAÚJO                  1\n",
       "JEAN WYLLYS                  1\n",
       "WLADIMIR COSTA               1\n",
       "THIAGO PEIXOTO               1\n",
       "REINHOLD STEPHANES           1\n",
       "MÁRIO HERINGER               1\n",
       "Name: txNomeParlamentar, Length: 278, dtype: int64"
      ]
     },
     "execution_count": 9,
     "metadata": {},
     "output_type": "execute_result"
    }
   ],
   "source": [
    "df.query('txtDescricao == \"PASSAGENS AÉREAS\"')['txNomeParlamentar'].value_counts()"
   ]
  },
  {
   "cell_type": "code",
   "execution_count": 10,
   "metadata": {},
   "outputs": [
    {
     "data": {
      "text/plain": [
       "True"
      ]
     },
     "execution_count": 10,
     "metadata": {},
     "output_type": "execute_result"
    }
   ],
   "source": [
    "df.query('txtDescricao == \"Emissão Bilhete Aéreo\"')['txNomeParlamentar'].value_counts().head()"
   ]
  },
  {
   "cell_type": "code",
   "execution_count": 5,
   "metadata": {},
   "outputs": [
    {
     "ename": "NameError",
     "evalue": "name 'df' is not defined",
     "output_type": "error",
     "traceback": [
      "\u001b[1;31m---------------------------------------------------------------------------\u001b[0m",
      "\u001b[1;31mNameError\u001b[0m                                 Traceback (most recent call last)",
      "\u001b[1;32m<ipython-input-5-3a6c43696dd8>\u001b[0m in \u001b[0;36m<module>\u001b[1;34m\u001b[0m\n\u001b[1;32m----> 1\u001b[1;33m \u001b[0mdf\u001b[0m\u001b[1;33m.\u001b[0m\u001b[0mquery\u001b[0m\u001b[1;33m(\u001b[0m\u001b[1;34m'txtDescricao == \"Emissão Bilhete Aéreo\"'\u001b[0m\u001b[1;33m)\u001b[0m\u001b[1;33m[\u001b[0m\u001b[1;34m'txNomeParlamentar'\u001b[0m\u001b[1;33m]\u001b[0m\u001b[1;33m.\u001b[0m\u001b[0mvalue_counts\u001b[0m\u001b[1;33m(\u001b[0m\u001b[1;33m)\u001b[0m\u001b[1;33m.\u001b[0m\u001b[0mhead\u001b[0m\u001b[1;33m(\u001b[0m\u001b[1;33m)\u001b[0m\u001b[1;33m\u001b[0m\u001b[0m\n\u001b[0m",
      "\u001b[1;31mNameError\u001b[0m: name 'df' is not defined"
     ]
    }
   ],
   "source": [
    "df.query('txtDescricao == \"Emissão Bilhete Aéreo\"')['txNomeParlamentar'].value_counts().head()"
   ]
  },
  {
   "cell_type": "code",
   "execution_count": 6,
   "metadata": {},
   "outputs": [
    {
     "ename": "NameError",
     "evalue": "name 'df' is not defined",
     "output_type": "error",
     "traceback": [
      "\u001b[1;31m---------------------------------------------------------------------------\u001b[0m",
      "\u001b[1;31mNameError\u001b[0m                                 Traceback (most recent call last)",
      "\u001b[1;32m<ipython-input-6-83e77fb46d30>\u001b[0m in \u001b[0;36m<module>\u001b[1;34m\u001b[0m\n\u001b[1;32m----> 1\u001b[1;33m \u001b[0mdf\u001b[0m\u001b[1;33m.\u001b[0m\u001b[0mquery\u001b[0m\u001b[1;33m(\u001b[0m\u001b[1;34m'txtDescricaoEspecificacao == \"Veiculos Automotores\"'\u001b[0m\u001b[1;33m)\u001b[0m\u001b[1;33m[\u001b[0m\u001b[1;34m'txtFornecedor'\u001b[0m\u001b[1;33m]\u001b[0m\u001b[1;33m.\u001b[0m\u001b[0mvalue_counts\u001b[0m\u001b[1;33m(\u001b[0m\u001b[1;33m)\u001b[0m\u001b[1;33m\u001b[0m\u001b[0m\n\u001b[0m",
      "\u001b[1;31mNameError\u001b[0m: name 'df' is not defined"
     ]
    }
   ],
   "source": [
    "df.query('txtDescricaoEspecificacao == \"Veiculos Automotores\"')['txtFornecedor'].value_counts()"
   ]
  },
  {
   "cell_type": "code",
   "execution_count": 7,
   "metadata": {},
   "outputs": [
    {
     "ename": "FileNotFoundError",
     "evalue": "[Errno 2] File b'./gastos-deputados-2018.csv' does not exist: b'./gastos-deputados-2018.csv'",
     "output_type": "error",
     "traceback": [
      "\u001b[1;31m---------------------------------------------------------------------------\u001b[0m",
      "\u001b[1;31mFileNotFoundError\u001b[0m                         Traceback (most recent call last)",
      "\u001b[1;32m<ipython-input-7-a429c63c7983>\u001b[0m in \u001b[0;36m<module>\u001b[1;34m\u001b[0m\n\u001b[1;32m----> 1\u001b[1;33m \u001b[0mdf\u001b[0m \u001b[1;33m=\u001b[0m \u001b[0mpd\u001b[0m\u001b[1;33m.\u001b[0m\u001b[0mread_csv\u001b[0m\u001b[1;33m(\u001b[0m\u001b[1;34m'./gastos-deputados-2018.csv'\u001b[0m\u001b[1;33m,\u001b[0m \u001b[0mlow_memory\u001b[0m\u001b[1;33m=\u001b[0m\u001b[1;32mFalse\u001b[0m\u001b[1;33m,\u001b[0m\u001b[0mdelimiter\u001b[0m\u001b[1;33m=\u001b[0m\u001b[1;34m';'\u001b[0m\u001b[1;33m,\u001b[0m \u001b[0mencoding\u001b[0m\u001b[1;33m=\u001b[0m\u001b[1;34m'UTF-8'\u001b[0m\u001b[1;33m,\u001b[0m \u001b[0mdecimal\u001b[0m\u001b[1;33m=\u001b[0m\u001b[1;34m','\u001b[0m\u001b[1;33m)\u001b[0m\u001b[1;33m\u001b[0m\u001b[0m\n\u001b[0m\u001b[0;32m      2\u001b[0m \u001b[0mdf\u001b[0m\u001b[1;33m.\u001b[0m\u001b[0mhead\u001b[0m\u001b[1;33m(\u001b[0m\u001b[1;33m)\u001b[0m\u001b[1;33m\u001b[0m\u001b[0m\n",
      "\u001b[1;32mc:\\users\\aluno\\appdata\\local\\programs\\python\\python37-32\\lib\\site-packages\\pandas\\io\\parsers.py\u001b[0m in \u001b[0;36mparser_f\u001b[1;34m(filepath_or_buffer, sep, delimiter, header, names, index_col, usecols, squeeze, prefix, mangle_dupe_cols, dtype, engine, converters, true_values, false_values, skipinitialspace, skiprows, skipfooter, nrows, na_values, keep_default_na, na_filter, verbose, skip_blank_lines, parse_dates, infer_datetime_format, keep_date_col, date_parser, dayfirst, iterator, chunksize, compression, thousands, decimal, lineterminator, quotechar, quoting, doublequote, escapechar, comment, encoding, dialect, tupleize_cols, error_bad_lines, warn_bad_lines, delim_whitespace, low_memory, memory_map, float_precision)\u001b[0m\n\u001b[0;32m    700\u001b[0m                     skip_blank_lines=skip_blank_lines)\n\u001b[0;32m    701\u001b[0m \u001b[1;33m\u001b[0m\u001b[0m\n\u001b[1;32m--> 702\u001b[1;33m         \u001b[1;32mreturn\u001b[0m \u001b[0m_read\u001b[0m\u001b[1;33m(\u001b[0m\u001b[0mfilepath_or_buffer\u001b[0m\u001b[1;33m,\u001b[0m \u001b[0mkwds\u001b[0m\u001b[1;33m)\u001b[0m\u001b[1;33m\u001b[0m\u001b[0m\n\u001b[0m\u001b[0;32m    703\u001b[0m \u001b[1;33m\u001b[0m\u001b[0m\n\u001b[0;32m    704\u001b[0m     \u001b[0mparser_f\u001b[0m\u001b[1;33m.\u001b[0m\u001b[0m__name__\u001b[0m \u001b[1;33m=\u001b[0m \u001b[0mname\u001b[0m\u001b[1;33m\u001b[0m\u001b[0m\n",
      "\u001b[1;32mc:\\users\\aluno\\appdata\\local\\programs\\python\\python37-32\\lib\\site-packages\\pandas\\io\\parsers.py\u001b[0m in \u001b[0;36m_read\u001b[1;34m(filepath_or_buffer, kwds)\u001b[0m\n\u001b[0;32m    427\u001b[0m \u001b[1;33m\u001b[0m\u001b[0m\n\u001b[0;32m    428\u001b[0m     \u001b[1;31m# Create the parser.\u001b[0m\u001b[1;33m\u001b[0m\u001b[1;33m\u001b[0m\u001b[0m\n\u001b[1;32m--> 429\u001b[1;33m     \u001b[0mparser\u001b[0m \u001b[1;33m=\u001b[0m \u001b[0mTextFileReader\u001b[0m\u001b[1;33m(\u001b[0m\u001b[0mfilepath_or_buffer\u001b[0m\u001b[1;33m,\u001b[0m \u001b[1;33m**\u001b[0m\u001b[0mkwds\u001b[0m\u001b[1;33m)\u001b[0m\u001b[1;33m\u001b[0m\u001b[0m\n\u001b[0m\u001b[0;32m    430\u001b[0m \u001b[1;33m\u001b[0m\u001b[0m\n\u001b[0;32m    431\u001b[0m     \u001b[1;32mif\u001b[0m \u001b[0mchunksize\u001b[0m \u001b[1;32mor\u001b[0m \u001b[0miterator\u001b[0m\u001b[1;33m:\u001b[0m\u001b[1;33m\u001b[0m\u001b[0m\n",
      "\u001b[1;32mc:\\users\\aluno\\appdata\\local\\programs\\python\\python37-32\\lib\\site-packages\\pandas\\io\\parsers.py\u001b[0m in \u001b[0;36m__init__\u001b[1;34m(self, f, engine, **kwds)\u001b[0m\n\u001b[0;32m    893\u001b[0m             \u001b[0mself\u001b[0m\u001b[1;33m.\u001b[0m\u001b[0moptions\u001b[0m\u001b[1;33m[\u001b[0m\u001b[1;34m'has_index_names'\u001b[0m\u001b[1;33m]\u001b[0m \u001b[1;33m=\u001b[0m \u001b[0mkwds\u001b[0m\u001b[1;33m[\u001b[0m\u001b[1;34m'has_index_names'\u001b[0m\u001b[1;33m]\u001b[0m\u001b[1;33m\u001b[0m\u001b[0m\n\u001b[0;32m    894\u001b[0m \u001b[1;33m\u001b[0m\u001b[0m\n\u001b[1;32m--> 895\u001b[1;33m         \u001b[0mself\u001b[0m\u001b[1;33m.\u001b[0m\u001b[0m_make_engine\u001b[0m\u001b[1;33m(\u001b[0m\u001b[0mself\u001b[0m\u001b[1;33m.\u001b[0m\u001b[0mengine\u001b[0m\u001b[1;33m)\u001b[0m\u001b[1;33m\u001b[0m\u001b[0m\n\u001b[0m\u001b[0;32m    896\u001b[0m \u001b[1;33m\u001b[0m\u001b[0m\n\u001b[0;32m    897\u001b[0m     \u001b[1;32mdef\u001b[0m \u001b[0mclose\u001b[0m\u001b[1;33m(\u001b[0m\u001b[0mself\u001b[0m\u001b[1;33m)\u001b[0m\u001b[1;33m:\u001b[0m\u001b[1;33m\u001b[0m\u001b[0m\n",
      "\u001b[1;32mc:\\users\\aluno\\appdata\\local\\programs\\python\\python37-32\\lib\\site-packages\\pandas\\io\\parsers.py\u001b[0m in \u001b[0;36m_make_engine\u001b[1;34m(self, engine)\u001b[0m\n\u001b[0;32m   1120\u001b[0m     \u001b[1;32mdef\u001b[0m \u001b[0m_make_engine\u001b[0m\u001b[1;33m(\u001b[0m\u001b[0mself\u001b[0m\u001b[1;33m,\u001b[0m \u001b[0mengine\u001b[0m\u001b[1;33m=\u001b[0m\u001b[1;34m'c'\u001b[0m\u001b[1;33m)\u001b[0m\u001b[1;33m:\u001b[0m\u001b[1;33m\u001b[0m\u001b[0m\n\u001b[0;32m   1121\u001b[0m         \u001b[1;32mif\u001b[0m \u001b[0mengine\u001b[0m \u001b[1;33m==\u001b[0m \u001b[1;34m'c'\u001b[0m\u001b[1;33m:\u001b[0m\u001b[1;33m\u001b[0m\u001b[0m\n\u001b[1;32m-> 1122\u001b[1;33m             \u001b[0mself\u001b[0m\u001b[1;33m.\u001b[0m\u001b[0m_engine\u001b[0m \u001b[1;33m=\u001b[0m \u001b[0mCParserWrapper\u001b[0m\u001b[1;33m(\u001b[0m\u001b[0mself\u001b[0m\u001b[1;33m.\u001b[0m\u001b[0mf\u001b[0m\u001b[1;33m,\u001b[0m \u001b[1;33m**\u001b[0m\u001b[0mself\u001b[0m\u001b[1;33m.\u001b[0m\u001b[0moptions\u001b[0m\u001b[1;33m)\u001b[0m\u001b[1;33m\u001b[0m\u001b[0m\n\u001b[0m\u001b[0;32m   1123\u001b[0m         \u001b[1;32melse\u001b[0m\u001b[1;33m:\u001b[0m\u001b[1;33m\u001b[0m\u001b[0m\n\u001b[0;32m   1124\u001b[0m             \u001b[1;32mif\u001b[0m \u001b[0mengine\u001b[0m \u001b[1;33m==\u001b[0m \u001b[1;34m'python'\u001b[0m\u001b[1;33m:\u001b[0m\u001b[1;33m\u001b[0m\u001b[0m\n",
      "\u001b[1;32mc:\\users\\aluno\\appdata\\local\\programs\\python\\python37-32\\lib\\site-packages\\pandas\\io\\parsers.py\u001b[0m in \u001b[0;36m__init__\u001b[1;34m(self, src, **kwds)\u001b[0m\n\u001b[0;32m   1851\u001b[0m         \u001b[0mkwds\u001b[0m\u001b[1;33m[\u001b[0m\u001b[1;34m'usecols'\u001b[0m\u001b[1;33m]\u001b[0m \u001b[1;33m=\u001b[0m \u001b[0mself\u001b[0m\u001b[1;33m.\u001b[0m\u001b[0musecols\u001b[0m\u001b[1;33m\u001b[0m\u001b[0m\n\u001b[0;32m   1852\u001b[0m \u001b[1;33m\u001b[0m\u001b[0m\n\u001b[1;32m-> 1853\u001b[1;33m         \u001b[0mself\u001b[0m\u001b[1;33m.\u001b[0m\u001b[0m_reader\u001b[0m \u001b[1;33m=\u001b[0m \u001b[0mparsers\u001b[0m\u001b[1;33m.\u001b[0m\u001b[0mTextReader\u001b[0m\u001b[1;33m(\u001b[0m\u001b[0msrc\u001b[0m\u001b[1;33m,\u001b[0m \u001b[1;33m**\u001b[0m\u001b[0mkwds\u001b[0m\u001b[1;33m)\u001b[0m\u001b[1;33m\u001b[0m\u001b[0m\n\u001b[0m\u001b[0;32m   1854\u001b[0m         \u001b[0mself\u001b[0m\u001b[1;33m.\u001b[0m\u001b[0munnamed_cols\u001b[0m \u001b[1;33m=\u001b[0m \u001b[0mself\u001b[0m\u001b[1;33m.\u001b[0m\u001b[0m_reader\u001b[0m\u001b[1;33m.\u001b[0m\u001b[0munnamed_cols\u001b[0m\u001b[1;33m\u001b[0m\u001b[0m\n\u001b[0;32m   1855\u001b[0m \u001b[1;33m\u001b[0m\u001b[0m\n",
      "\u001b[1;32mpandas\\_libs\\parsers.pyx\u001b[0m in \u001b[0;36mpandas._libs.parsers.TextReader.__cinit__\u001b[1;34m()\u001b[0m\n",
      "\u001b[1;32mpandas\\_libs\\parsers.pyx\u001b[0m in \u001b[0;36mpandas._libs.parsers.TextReader._setup_parser_source\u001b[1;34m()\u001b[0m\n",
      "\u001b[1;31mFileNotFoundError\u001b[0m: [Errno 2] File b'./gastos-deputados-2018.csv' does not exist: b'./gastos-deputados-2018.csv'"
     ]
    }
   ],
   "source": [
    "df = pd.read_csv('./gastos-deputados-2018.csv', low_memory=False,delimiter=';', encoding='UTF-8', decimal=',')\n",
    "df.head()"
   ]
  },
  {
   "cell_type": "code",
   "execution_count": 14,
   "metadata": {},
   "outputs": [
    {
     "data": {
      "text/plain": [
       "CASCOL COMBUSTIVEIS PARA VEICULOS LTDA               5845\n",
       "FRATELLI POSTO DE COMBUSTIVEIS LTDA                   865\n",
       "AUTO POSTO AEROPORTO LTDA                             737\n",
       "POSTO DA TORRE EIRELI - EPP                           606\n",
       "AUTO SHOPPING DERIVADOS DE PETROLEO LTDA              377\n",
       "DRA 4 DERIVADOS DE PETROLEO LTDA                      370\n",
       "POSTO DE COMBUSTIVEIS DICO LTDA                       360\n",
       "BRASAL COMBUSTIVEIS LTDA                              354\n",
       "SAO JOAO POSTOS DE ABAST E SERV. LTDA                 317\n",
       "POSTO PANTERA EIRELI                                  313\n",
       "VIA SUL LTDA                                          311\n",
       "APF DISTRIBUIDORA DE COMBUSTIVEL LTDA                 279\n",
       "SIM REDE DE POSTOS LTDA                               249\n",
       "POSTO KALILANDIA LTDA                                 238\n",
       "POSTO DISBRAVE IMPERIAL LTDA                          237\n",
       "POSTO DE GASOLINA BOA VIAGEM DE FRIBURGO LTDA         213\n",
       "SAO JOAO POSTOS DE ABASTECIMENTO E SERVICOS LTDA      196\n",
       "AUTO POSTO CINCO ESTRELAS LTDA                        194\n",
       "POSTO TOCANTINS LTDA                                  186\n",
       "GOLDEN GREEN AUTO POSTO LTDA                          175\n",
       "ALMIR E SILVA LTDA - EPP                              172\n",
       "K. Q. MOURA                                           156\n",
       "ELO COMERCIO E SERVICOS LTDA                          155\n",
       "AUTO SHOPPING DER DE PETROLEO LTDA                    153\n",
       "AUTO POSTO JK LTDA                                    151\n",
       "AUTO POSTO DE COMBUSTIVEIS RENASCENCA LTDA            150\n",
       "AUTO POSTO 109 NORTE LTDA                             149\n",
       "DAMPETRO COMERCIO DE DERIVADOS DE PETROLEO LTDA       144\n",
       "Posto Via Sul                                         144\n",
       "COMPANHIA BRASILEIRA DE DISTRIBUICAO                  144\n",
       "                                                     ... \n",
       "BSB COMERCIO DE COMBUSTIVEIS LTDA                       1\n",
       "POSTO MARISTELA CUPIM LTDA                              1\n",
       "COMERCIAL DE COMB. E DER. DE PET. ALBATROZ LTDA         1\n",
       "POSTO DE COMBUSTIVEIS ADVF EIRELI ME                    1\n",
       "VARGAS COMERCIO DE COMBUSTIVEIS LTDA                    1\n",
       "CENTRO AUTOMOTIVO PRIME DE BAURU LTDA                   1\n",
       "NN CONBUSTIVEIS LTDA                                    1\n",
       "Auto Posto Santa Maria Ltda - ME                        1\n",
       "A&D AUTO POSTO LTDA                                     1\n",
       "E J FRANZEN CIA LTDA                                    1\n",
       "AUTO BASSANO LTDA                                       1\n",
       "COML. BUFFON COMB. E TRANSP. LTDA. - POSTO 79           1\n",
       "POSTO PRINCIPE DA PAZ LIMITADA                          1\n",
       "POSTO 318 REVENDA DE COMBUSTIVEIS LTDA - ME             1\n",
       "AUTO POSTO VISTA ALEGRE LTDA                            1\n",
       "VIDOTTO & MOLINA LTDA                                   1\n",
       "POSTO 10 RODOVIAS LTDA                                  1\n",
       "POSTO DE GASOLINA SUPERIOR DE BONSUCESSO                1\n",
       "LUIZ SOARES VIEIRA - EPP                                1\n",
       "AUTO POSTO MINA LTDA - ME                               1\n",
       "AUTO POSTO ARENA COMERC DE COMB LTDA                    1\n",
       "POSTO CAICO LTDA                                        1\n",
       "AUTO POSTO ARQUIPELAGO LTDA                             1\n",
       "AUTO POSTO JURITY LTDA                                  1\n",
       "POSTO DE SERVIÇO E ABASTECIMENTO LOUZADA                1\n",
       "POSTO SANTA FELICIA DE COMBUSTIVEIS SAO CARLOS LT       1\n",
       "Auto Posto Pontennovense Ltda                           1\n",
       "COMERCIO DE COMBUSTIVEIS DE CARLI LTDA                  1\n",
       "ABASTECEDORA DE COMBUSTIVEIS FRIZZO LTDA                1\n",
       "AUTO POSTO IGUACU LTDA                                  1\n",
       "Name: txtFornecedor, Length: 11309, dtype: int64"
      ]
     },
     "execution_count": 14,
     "metadata": {},
     "output_type": "execute_result"
    }
   ],
   "source": [
    "df.query('txtDescricaoEspecificacao == \"Veículos Automotores\"')['txtFornecedor'].value_counts()"
   ]
  },
  {
   "cell_type": "code",
   "execution_count": 13,
   "metadata": {},
   "outputs": [
    {
     "data": {
      "text/plain": [
       "SHÉRIDAN                    93\n",
       "MARCOS ROGÉRIO              81\n",
       "ALTINEU CÔRTES              78\n",
       "MARCELO ARO                 78\n",
       "BRUNA FURLAN                71\n",
       "ELIZEU DIONIZIO             69\n",
       "HELDER SALOMÃO              68\n",
       "ALFREDO NASCIMENTO          68\n",
       "RONALDO LESSA               65\n",
       "HERMES PARCIANELLO          42\n",
       "ODORICO MONTEIRO            40\n",
       "FABIO GARCIA                34\n",
       "EDUARDO BOLSONARO           32\n",
       "JOÃO DANIEL                 31\n",
       "LIDERANÇA DO PT             28\n",
       "JOÃO CARLOS BACELAR         23\n",
       "BEBETO                      20\n",
       "LUIZ CARLOS RAMOS           16\n",
       "FRANKLIN                    16\n",
       "RENATO ANDRADE              16\n",
       "HERÁCLITO FORTES            14\n",
       "PROF. GEDEÃO AMORIM         14\n",
       "MARINHA RAUPP               11\n",
       "PODE                        11\n",
       "LUIZIANNE LINS              11\n",
       "ODAIR CUNHA                 11\n",
       "ERON BEZERRA                10\n",
       "ALUISIO MENDES              10\n",
       "JOSÉ NUNES                   9\n",
       "ELIZIANE GAMA                9\n",
       "                            ..\n",
       "BALEIA ROSSI                 1\n",
       "ADEMIR CAMILO                1\n",
       "ELMAR NASCIMENTO             1\n",
       "MÁRIO HERINGER               1\n",
       "CELSO PANSERA                1\n",
       "DELEY                        1\n",
       "CAPITÃO AUGUSTO              1\n",
       "PROFESSOR VICTÓRIO GALLI     1\n",
       "SÓSTENES CAVALCANTE          1\n",
       "RAQUEL MUNIZ                 1\n",
       "MAURÍCIO QUINTELLA LESSA     1\n",
       "GEOVANIA DE SÁ               1\n",
       "ENIO VERRI                   1\n",
       "FERNANDO COELHO FILHO        1\n",
       "JUTAHY JUNIOR                1\n",
       "ROSANGELA GOMES              1\n",
       "LEONARDO QUINTÃO             1\n",
       "BENEDITA DA SILVA            1\n",
       "TIA ERON                     1\n",
       "IRACEMA PORTELLA             1\n",
       "LAERCIO OLIVEIRA             1\n",
       "ROGÉRIO ROSSO                1\n",
       "HUGO MOTTA                   1\n",
       "ROBERTO GÓES                 1\n",
       "JÔ MORAES                    1\n",
       "JOSÉ AIRTON FÉLIX CIRILO     1\n",
       "FAUSTO PINATO                1\n",
       "RODRIGO MARTINS              1\n",
       "DANILO CABRAL                1\n",
       "JOZI ARAÚJO                  1\n",
       "Name: txNomeParlamentar, Length: 278, dtype: int64"
      ]
     },
     "execution_count": 13,
     "metadata": {},
     "output_type": "execute_result"
    }
   ],
   "source": [
    "df.query('txtDescricao == \"PASSAGENS AÉREAS\"')['txNomeParlamentar'].value_counts()"
   ]
  },
  {
   "cell_type": "code",
   "execution_count": 15,
   "metadata": {},
   "outputs": [
    {
     "ename": "AttributeError",
     "evalue": "'Series' object has no attribute 'value_sum'",
     "output_type": "error",
     "traceback": [
      "\u001b[1;31m---------------------------------------------------------------------------\u001b[0m",
      "\u001b[1;31mAttributeError\u001b[0m                            Traceback (most recent call last)",
      "\u001b[1;32m<ipython-input-15-6fb710a30c04>\u001b[0m in \u001b[0;36m<module>\u001b[1;34m\u001b[0m\n\u001b[1;32m----> 1\u001b[1;33m \u001b[0mdf\u001b[0m\u001b[1;33m.\u001b[0m\u001b[0mquery\u001b[0m\u001b[1;33m(\u001b[0m\u001b[1;34m'txtFornecedor == \"CASCOL COMBUSTIVEIS PARA VEICULOS LTDA\"'\u001b[0m\u001b[1;33m)\u001b[0m\u001b[1;33m[\u001b[0m\u001b[1;34m'vlrLiquido'\u001b[0m\u001b[1;33m]\u001b[0m\u001b[1;33m.\u001b[0m\u001b[0mvalue_sum\u001b[0m\u001b[1;33m(\u001b[0m\u001b[1;33m)\u001b[0m\u001b[1;33m\u001b[0m\u001b[0m\n\u001b[0m",
      "\u001b[1;32mc:\\users\\aluno\\appdata\\local\\programs\\python\\python37-32\\lib\\site-packages\\pandas\\core\\generic.py\u001b[0m in \u001b[0;36m__getattr__\u001b[1;34m(self, name)\u001b[0m\n\u001b[0;32m   5065\u001b[0m             \u001b[1;32mif\u001b[0m \u001b[0mself\u001b[0m\u001b[1;33m.\u001b[0m\u001b[0m_info_axis\u001b[0m\u001b[1;33m.\u001b[0m\u001b[0m_can_hold_identifiers_and_holds_name\u001b[0m\u001b[1;33m(\u001b[0m\u001b[0mname\u001b[0m\u001b[1;33m)\u001b[0m\u001b[1;33m:\u001b[0m\u001b[1;33m\u001b[0m\u001b[0m\n\u001b[0;32m   5066\u001b[0m                 \u001b[1;32mreturn\u001b[0m \u001b[0mself\u001b[0m\u001b[1;33m[\u001b[0m\u001b[0mname\u001b[0m\u001b[1;33m]\u001b[0m\u001b[1;33m\u001b[0m\u001b[0m\n\u001b[1;32m-> 5067\u001b[1;33m             \u001b[1;32mreturn\u001b[0m \u001b[0mobject\u001b[0m\u001b[1;33m.\u001b[0m\u001b[0m__getattribute__\u001b[0m\u001b[1;33m(\u001b[0m\u001b[0mself\u001b[0m\u001b[1;33m,\u001b[0m \u001b[0mname\u001b[0m\u001b[1;33m)\u001b[0m\u001b[1;33m\u001b[0m\u001b[0m\n\u001b[0m\u001b[0;32m   5068\u001b[0m \u001b[1;33m\u001b[0m\u001b[0m\n\u001b[0;32m   5069\u001b[0m     \u001b[1;32mdef\u001b[0m \u001b[0m__setattr__\u001b[0m\u001b[1;33m(\u001b[0m\u001b[0mself\u001b[0m\u001b[1;33m,\u001b[0m \u001b[0mname\u001b[0m\u001b[1;33m,\u001b[0m \u001b[0mvalue\u001b[0m\u001b[1;33m)\u001b[0m\u001b[1;33m:\u001b[0m\u001b[1;33m\u001b[0m\u001b[0m\n",
      "\u001b[1;31mAttributeError\u001b[0m: 'Series' object has no attribute 'value_sum'"
     ]
    }
   ],
   "source": [
    "df.query('txtFornecedor == \"CASCOL COMBUSTIVEIS PARA VEICULOS LTDA\"')['vlrLiquido'].value_sum()"
   ]
  },
  {
   "cell_type": "code",
   "execution_count": 13,
   "metadata": {},
   "outputs": [
    {
     "ename": "NameError",
     "evalue": "name 'dtf' is not defined",
     "output_type": "error",
     "traceback": [
      "\u001b[1;31m---------------------------------------------------------------------------\u001b[0m",
      "\u001b[1;31mNameError\u001b[0m                                 Traceback (most recent call last)",
      "\u001b[1;32m<ipython-input-13-86ffb3c0ced3>\u001b[0m in \u001b[0;36m<module>\u001b[1;34m\u001b[0m\n\u001b[1;32m----> 1\u001b[1;33m \u001b[0msum\u001b[0m\u001b[1;33m(\u001b[0m\u001b[0mdtf\u001b[0m\u001b[1;33m[\u001b[0m\u001b[1;34m'vlrLiquido'\u001b[0m\u001b[1;33m]\u001b[0m\u001b[1;33m)\u001b[0m\u001b[1;33m\u001b[0m\u001b[0m\n\u001b[0m",
      "\u001b[1;31mNameError\u001b[0m: name 'dtf' is not defined"
     ]
    }
   ],
   "source": [
    "sum(dtf['vlrLiquido'])"
   ]
  },
  {
   "cell_type": "code",
   "execution_count": 19,
   "metadata": {},
   "outputs": [
    {
     "ename": "TypeError",
     "evalue": "unsupported operand type(s) for +: 'int' and 'str'",
     "output_type": "error",
     "traceback": [
      "\u001b[1;31m---------------------------------------------------------------------------\u001b[0m",
      "\u001b[1;31mTypeError\u001b[0m                                 Traceback (most recent call last)",
      "\u001b[1;32m<ipython-input-19-291fbcb18afc>\u001b[0m in \u001b[0;36m<module>\u001b[1;34m\u001b[0m\n\u001b[1;32m----> 1\u001b[1;33m \u001b[0msum\u001b[0m\u001b[1;33m(\u001b[0m\u001b[0mdf\u001b[0m\u001b[1;33m[\u001b[0m\u001b[1;34m'vlrLiquido'\u001b[0m\u001b[1;33m]\u001b[0m\u001b[1;33m)\u001b[0m\u001b[1;33m\u001b[0m\u001b[0m\n\u001b[0m",
      "\u001b[1;31mTypeError\u001b[0m: unsupported operand type(s) for +: 'int' and 'str'"
     ]
    }
   ],
   "source": [
    "sum(df['vlrLiquido'])"
   ]
  },
  {
   "cell_type": "code",
   "execution_count": 20,
   "metadata": {},
   "outputs": [
    {
     "ename": "SyntaxError",
     "evalue": "invalid syntax (<ipython-input-20-50a8bcfcfedd>, line 1)",
     "output_type": "error",
     "traceback": [
      "\u001b[1;36m  File \u001b[1;32m\"<ipython-input-20-50a8bcfcfedd>\"\u001b[1;36m, line \u001b[1;32m1\u001b[0m\n\u001b[1;33m    df.query('txtFornecedor == \"CASCOL COMBUSTIVEIS PARA VEICULOS LTDA\"')sum(df['vlrLiquido'])\u001b[0m\n\u001b[1;37m                                                                           ^\u001b[0m\n\u001b[1;31mSyntaxError\u001b[0m\u001b[1;31m:\u001b[0m invalid syntax\n"
     ]
    }
   ],
   "source": [
    "df.query('txtFornecedor == \"CASCOL COMBUSTIVEIS PARA VEICULOS LTDA\"')sum(df['vlrLiquido'])"
   ]
  },
  {
   "cell_type": "code",
   "execution_count": 21,
   "metadata": {},
   "outputs": [
    {
     "ename": "SyntaxError",
     "evalue": "invalid syntax (<ipython-input-21-6fb41e989018>, line 1)",
     "output_type": "error",
     "traceback": [
      "\u001b[1;36m  File \u001b[1;32m\"<ipython-input-21-6fb41e989018>\"\u001b[1;36m, line \u001b[1;32m1\u001b[0m\n\u001b[1;33m    df.query('txtFornecedor == \"CASCOL COMBUSTIVEIS PARA VEICULOS LTDA\"')sum(['vlrLiquido'])\u001b[0m\n\u001b[1;37m                                                                           ^\u001b[0m\n\u001b[1;31mSyntaxError\u001b[0m\u001b[1;31m:\u001b[0m invalid syntax\n"
     ]
    }
   ],
   "source": [
    "df.query('txtFornecedor == \"CASCOL COMBUSTIVEIS PARA VEICULOS LTDA\"')sum(['vlrLiquido'])"
   ]
  },
  {
   "cell_type": "code",
   "execution_count": 22,
   "metadata": {},
   "outputs": [
    {
     "ename": "SyntaxError",
     "evalue": "unexpected EOF while parsing (<ipython-input-22-79f3a9077d7e>, line 1)",
     "output_type": "error",
     "traceback": [
      "\u001b[1;36m  File \u001b[1;32m\"<ipython-input-22-79f3a9077d7e>\"\u001b[1;36m, line \u001b[1;32m1\u001b[0m\n\u001b[1;33m    d_f = df.groupby(['numMes','txtDescricao']).apply(lambda x: x['vlrDocumento'].sum()\u001b[0m\n\u001b[1;37m                                                                                       ^\u001b[0m\n\u001b[1;31mSyntaxError\u001b[0m\u001b[1;31m:\u001b[0m unexpected EOF while parsing\n"
     ]
    }
   ],
   "source": [
    "d_f = df.groupby(['numMes','txtDescricao']).apply(lambda x: x['vlrDocumento'].sum()"
   ]
  },
  {
   "cell_type": "code",
   "execution_count": 4,
   "metadata": {},
   "outputs": [],
   "source": [
    "import matplotlib.pyplot as plt"
   ]
  },
  {
   "cell_type": "code",
   "execution_count": 24,
   "metadata": {},
   "outputs": [
    {
     "ename": "SyntaxError",
     "evalue": "invalid syntax (<ipython-input-24-4a07b9a8cee6>, line 1)",
     "output_type": "error",
     "traceback": [
      "\u001b[1;36m  File \u001b[1;32m\"<ipython-input-24-4a07b9a8cee6>\"\u001b[1;36m, line \u001b[1;32m1\u001b[0m\n\u001b[1;33m    = df.groupby(['txtDescricao','txtFornecedor']).apply(lambda x: x['vlrDocumento'].sum()\u001b[0m\n\u001b[1;37m    ^\u001b[0m\n\u001b[1;31mSyntaxError\u001b[0m\u001b[1;31m:\u001b[0m invalid syntax\n"
     ]
    }
   ],
   "source": [
    " = df.groupby(['txtDescricao','txtFornecedor']).apply(lambda x: x['vlrDocumento'].sum()"
   ]
  },
  {
   "cell_type": "code",
   "execution_count": 8,
   "metadata": {},
   "outputs": [],
   "source": [
    "dtf = df.groupby(['txtDescricao','txtFornecedor']).apply(lambda x: x['vlrLiquido'].sum())"
   ]
  },
  {
   "cell_type": "code",
   "execution_count": 14,
   "metadata": {},
   "outputs": [
    {
     "ename": "KeyError",
     "evalue": "'txtFornecedor == \"CASCOL COMBUSTIVEIS PARA VEICULOS LTDA\"'",
     "output_type": "error",
     "traceback": [
      "\u001b[1;31m---------------------------------------------------------------------------\u001b[0m",
      "\u001b[1;31mKeyError\u001b[0m                                  Traceback (most recent call last)",
      "\u001b[1;32m<ipython-input-14-bf5222e387f5>\u001b[0m in \u001b[0;36m<module>\u001b[1;34m\u001b[0m\n\u001b[0;32m      1\u001b[0m dt_f = df.groupby(\n\u001b[1;32m----> 2\u001b[1;33m     by=['txtFornecedor == \"CASCOL COMBUSTIVEIS PARA VEICULOS LTDA\"'])['vlrLiquido'].sum()\n\u001b[0m",
      "\u001b[1;32mc:\\users\\aluno\\appdata\\local\\programs\\python\\python37-32\\lib\\site-packages\\pandas\\core\\generic.py\u001b[0m in \u001b[0;36mgroupby\u001b[1;34m(self, by, axis, level, as_index, sort, group_keys, squeeze, observed, **kwargs)\u001b[0m\n\u001b[0;32m   7630\u001b[0m         return groupby(self, by=by, axis=axis, level=level, as_index=as_index,\n\u001b[0;32m   7631\u001b[0m                        \u001b[0msort\u001b[0m\u001b[1;33m=\u001b[0m\u001b[0msort\u001b[0m\u001b[1;33m,\u001b[0m \u001b[0mgroup_keys\u001b[0m\u001b[1;33m=\u001b[0m\u001b[0mgroup_keys\u001b[0m\u001b[1;33m,\u001b[0m \u001b[0msqueeze\u001b[0m\u001b[1;33m=\u001b[0m\u001b[0msqueeze\u001b[0m\u001b[1;33m,\u001b[0m\u001b[1;33m\u001b[0m\u001b[0m\n\u001b[1;32m-> 7632\u001b[1;33m                        observed=observed, **kwargs)\n\u001b[0m\u001b[0;32m   7633\u001b[0m \u001b[1;33m\u001b[0m\u001b[0m\n\u001b[0;32m   7634\u001b[0m     def asfreq(self, freq, method=None, how=None, normalize=False,\n",
      "\u001b[1;32mc:\\users\\aluno\\appdata\\local\\programs\\python\\python37-32\\lib\\site-packages\\pandas\\core\\groupby\\groupby.py\u001b[0m in \u001b[0;36mgroupby\u001b[1;34m(obj, by, **kwds)\u001b[0m\n\u001b[0;32m   2108\u001b[0m         \u001b[1;32mraise\u001b[0m \u001b[0mTypeError\u001b[0m\u001b[1;33m(\u001b[0m\u001b[1;34m'invalid type: {}'\u001b[0m\u001b[1;33m.\u001b[0m\u001b[0mformat\u001b[0m\u001b[1;33m(\u001b[0m\u001b[0mobj\u001b[0m\u001b[1;33m)\u001b[0m\u001b[1;33m)\u001b[0m\u001b[1;33m\u001b[0m\u001b[0m\n\u001b[0;32m   2109\u001b[0m \u001b[1;33m\u001b[0m\u001b[0m\n\u001b[1;32m-> 2110\u001b[1;33m     \u001b[1;32mreturn\u001b[0m \u001b[0mklass\u001b[0m\u001b[1;33m(\u001b[0m\u001b[0mobj\u001b[0m\u001b[1;33m,\u001b[0m \u001b[0mby\u001b[0m\u001b[1;33m,\u001b[0m \u001b[1;33m**\u001b[0m\u001b[0mkwds\u001b[0m\u001b[1;33m)\u001b[0m\u001b[1;33m\u001b[0m\u001b[0m\n\u001b[0m",
      "\u001b[1;32mc:\\users\\aluno\\appdata\\local\\programs\\python\\python37-32\\lib\\site-packages\\pandas\\core\\groupby\\groupby.py\u001b[0m in \u001b[0;36m__init__\u001b[1;34m(self, obj, keys, axis, level, grouper, exclusions, selection, as_index, sort, group_keys, squeeze, observed, **kwargs)\u001b[0m\n\u001b[0;32m    358\u001b[0m                                                     \u001b[0msort\u001b[0m\u001b[1;33m=\u001b[0m\u001b[0msort\u001b[0m\u001b[1;33m,\u001b[0m\u001b[1;33m\u001b[0m\u001b[0m\n\u001b[0;32m    359\u001b[0m                                                     \u001b[0mobserved\u001b[0m\u001b[1;33m=\u001b[0m\u001b[0mobserved\u001b[0m\u001b[1;33m,\u001b[0m\u001b[1;33m\u001b[0m\u001b[0m\n\u001b[1;32m--> 360\u001b[1;33m                                                     mutated=self.mutated)\n\u001b[0m\u001b[0;32m    361\u001b[0m \u001b[1;33m\u001b[0m\u001b[0m\n\u001b[0;32m    362\u001b[0m         \u001b[0mself\u001b[0m\u001b[1;33m.\u001b[0m\u001b[0mobj\u001b[0m \u001b[1;33m=\u001b[0m \u001b[0mobj\u001b[0m\u001b[1;33m\u001b[0m\u001b[0m\n",
      "\u001b[1;32mc:\\users\\aluno\\appdata\\local\\programs\\python\\python37-32\\lib\\site-packages\\pandas\\core\\groupby\\grouper.py\u001b[0m in \u001b[0;36m_get_grouper\u001b[1;34m(obj, key, axis, level, sort, observed, mutated, validate)\u001b[0m\n\u001b[0;32m    576\u001b[0m                 \u001b[0min_axis\u001b[0m\u001b[1;33m,\u001b[0m \u001b[0mname\u001b[0m\u001b[1;33m,\u001b[0m \u001b[0mlevel\u001b[0m\u001b[1;33m,\u001b[0m \u001b[0mgpr\u001b[0m \u001b[1;33m=\u001b[0m \u001b[1;32mFalse\u001b[0m\u001b[1;33m,\u001b[0m \u001b[1;32mNone\u001b[0m\u001b[1;33m,\u001b[0m \u001b[0mgpr\u001b[0m\u001b[1;33m,\u001b[0m \u001b[1;32mNone\u001b[0m\u001b[1;33m\u001b[0m\u001b[0m\n\u001b[0;32m    577\u001b[0m             \u001b[1;32melse\u001b[0m\u001b[1;33m:\u001b[0m\u001b[1;33m\u001b[0m\u001b[0m\n\u001b[1;32m--> 578\u001b[1;33m                 \u001b[1;32mraise\u001b[0m \u001b[0mKeyError\u001b[0m\u001b[1;33m(\u001b[0m\u001b[0mgpr\u001b[0m\u001b[1;33m)\u001b[0m\u001b[1;33m\u001b[0m\u001b[0m\n\u001b[0m\u001b[0;32m    579\u001b[0m         \u001b[1;32melif\u001b[0m \u001b[0misinstance\u001b[0m\u001b[1;33m(\u001b[0m\u001b[0mgpr\u001b[0m\u001b[1;33m,\u001b[0m \u001b[0mGrouper\u001b[0m\u001b[1;33m)\u001b[0m \u001b[1;32mand\u001b[0m \u001b[0mgpr\u001b[0m\u001b[1;33m.\u001b[0m\u001b[0mkey\u001b[0m \u001b[1;32mis\u001b[0m \u001b[1;32mnot\u001b[0m \u001b[1;32mNone\u001b[0m\u001b[1;33m:\u001b[0m\u001b[1;33m\u001b[0m\u001b[0m\n\u001b[0;32m    580\u001b[0m             \u001b[1;31m# Add key to exclusions\u001b[0m\u001b[1;33m\u001b[0m\u001b[1;33m\u001b[0m\u001b[0m\n",
      "\u001b[1;31mKeyError\u001b[0m: 'txtFornecedor == \"CASCOL COMBUSTIVEIS PARA VEICULOS LTDA\"'"
     ]
    }
   ],
   "source": [
    "dt_f = df.groupby(\n",
    "    by=['txtFornecedor == \"CASCOL COMBUSTIVEIS PARA VEICULOS LTDA\"'])['vlrLiquido'].sum()"
   ]
  },
  {
   "cell_type": "code",
   "execution_count": 17,
   "metadata": {},
   "outputs": [
    {
     "data": {
      "text/plain": [
       "'100904016015010010060160100100180.48170.64150101.92150187.06180.05130.03189.8915010014010085601001001001101005046177.24100100100150161.8610015020010018010070150150100100200160174.861005010029.96231.84267.25256.6130180200.54177.0250185.05230.91196.39169.33206.26234.72100209.53195.98100142.3950245.02148.91283.54249.3231.2125.14200.0370230.0380.1270.0210075151.2860.0680.13219.9990.02180.0480120.08180105.07210.18180.0522090.11240.02260.09100270.01100100130135240.0180.01181.84180.04220.0683.6180163.0219010030100159.0180150160.8410015014050186.46100160.6510010010050190.0450240.0350225.276010070100200.1510050221.05109.98145.01155100160.350160.07806050140.01150150.93100122.99155.03100100100146.6650705015015010073.34220.2150705050505050140.08207.04905010050180190215.1150196.02165.02110220.01805016050200135.41250.12260.04150270.3260.06260.05120100177.86183.86181.798.28156.67100505050150200272.93200295.011122002004015015010040100199.1250244.26200258.82190.04175.1368.12242.51108.01158.85135.01155.03196161.96199.99211.14201.02197.28206.28200.08205200.03200.0215050213.12100165.3610050100156.6410015050213.93176.86202.62204.84173.5182.25100159.441001005010012050501001505030215.02100210.75175.7200.03187.39170.74150100170.85150166.09184.3156.6176.93150175.18140165.02152.3250100100.0170135.015061.39100130.024012070120.0650138.15145.01142.09150160120123.8350150120120.08143.06120115.211207017012010070120.067010015090.0410012070100110.04120.01120.01212.1124.05140.06150.03185.08187.051001001005050163.28100140.0110010010010010070254.51707088.67070707079.5505070703050707050507073707030707070100503070100114.695060203070235.02262.75226.09228.85233.72247.09203.85229.3255.97235.72179.36150.0150300.04150100163.43152.03130.25166.5285.86200100100100100100100100100153.7185.23100202.17191.73190.59193.24170.3190.38213.94165.01171.34170.29157.94163.06197.76167.03197.65147.11178.18176.47199.39199.3181.82179.3170.0650150190150150100150200100150502004150182.9150199.96208.66317.51276.21166.97103.06119.71129.06131157.09137.04114.47109.45187.75505050229.9812.5120181.315514259.0150250264.022001502001505040150100120501001001501501001901001005010050100503014070100100100200100229.9950143.67100100120203.9225.02100218.07208.64217.84225230.05202.01220223.06220.1180.0250228.04234.99252.19210.07240.01199.85215.05100194.05201.29180180180180180159.04180100100195.63234.09237.992002002001854050150401005015050180100200150100200100100200100150200200117120100204.471002001501001501005020050100150100200200200165.03505020050232.34252.24168.28100199.98170.01190.03173.98181.72156.43187.69200201.15170184.01200100100150100170.06100150160.01100180.03149.86189.08194.319018050210.02168.43250.12198.35010050501003020100240.73225.82246.19235.92191.15233.452001002001001001001001501001301001501501308050189.62100100100176.0210030100100100100152.53163.96168.2693.09130.82144.84210.24208.8224.9182.29219.26225.92101.78150160.47252.59264.9562100505050100161.33140.79158.14185.04196.5170.7100100150120100100270.04100704050200150100100100100203.72130.09107.69242.81100198.35169.98154.1198.7161.9723.56183.97144.44189.04200181.41100150179.48189.46100134.17180150210.01100100144.18185.03166.8214015050100100201.06130.31150150200173.47205.5244221.19208.34203.86133.385010010050100100100100100100100100100100100100159.665010050501505050260.16170.12190.08195.88170.15228.5264.12243.65211.14213.35260.08200.03267.97178.91179.89171.66154.89181.89162.41100152.56152.4915050153.56184.17105.07190.36184.63126.93100100145.45200200200188.95150231.56236.52228.21252.85182.6773.5996.77219.13145.44244.12170.06258.63248.7174.34211.38256.9257.49211.8750248.99200274.38152.87200200200200200200200200200200254.171001005050100150245.01153.79275.61100160.03155.94144.66264.85249.84235.44259.04171.1123.92170.36439.6565.01278.07153.42408.58162.8148.85227.48229.9910060178.03201.92185.08193.64100170170140193.73179.31203.57191.53190.2118015040174.25179.52150201.51203.72166.57135.03160.82178.79187.65183.35195.41173.98217.45152.96120152.07140100100509010010013040100100505010015010010010010010010010010017510010010010010010010010010010010010050508015010060135.2280150200100100100100100100180.06171.18179.981001505010010010010050150100160.052005050158.03183.29165.27135.03100133.02178.2315040100237.03200.21200213.07150226.15200225.06150229.35200234.18214.77231.29100100100215.8169.34208.38239.49191.5233.94139.84169.35200195100133.46126.07195.56285.86250124.46168.04100150280.1263.9260.1247.7269.28140.6254.01100100505040100100100100201001505010010010010041200.07135.99155215192.0450255.0492200133.01210.0119517021950100100205.312331004015050200505050194.0750705010050303010010010080505010010015010020.0550505050175.02252.7220050254.72170.01150150150150150150150100150150150150150150100150150204.15217.8970216.54197.8710040212.65290.04254.55216.4290256.28150149.5260248.33237.18254.8266.01289.77248.49217.06257.53242.76281.3192.37220.02259.9259.55259.23183.82228.21200227.21270.69100261.1250505050208.9650100195.54210.04189.9327050217.96200200100100165200200100100200200140100100100155.02200.12170.51170.01150.02100170.09159.98100100159.54126.23152.64180.160.06100160100182.01231.16160168.26147.670100248.17241.635010010050230.5750228.36163.25100257.1243.2252.49100254.33100258.75239.39246.5910050100100110.05137.82140.8550151.46100150168.3151.8450134.1100121.18152.53100197.97100.02100127.63100208.64100197.55150153.5217.83218.23185.29166.71174.33200.38102.48147.91126.2912010012013010013012012015080.39156.78160140150274.8910055200200100200110100251250.03209.05189.98200230.03220.02228.04150.02204.64129.94150.64139.34136.33125.08100150134.13200150200200150170139.9915010010050505050192.0619050158.18150150200232.13221.38133.693.29162.01100126166.71152.14239.65234.85100177.5670184175.14169.07150100186.5234.39170.13223.39150223.05104.02249.65219.9207.76215.99224.75151.5190.6235.94134.49210.54100259.3209.1218.71231.28231.11209.36196.21175.04220.21150233.69220.26217.75227.75228.2846235.66224.68244.25228.39241.4226.95231.21166.65100100100501005050100222.36100224.07154.23247.12212.7570150243.250100100100150100150148.71192.8520010010011099.03150245.69230148200178.83185.09189.97182.69228.2150505020014360506550501005010012010010025070233.65234.62235.01100235.08150100200100200222.06231.2670146.68179180185.4250218.16120.43264.33126.42100218.99172.66145.72182.11180.6185.36190.09120.9360108.05100142.29224.2144.2170.63221.3185.03100150200170200218.74204.18185.54100200235.03230.06150122.0450171.38221.42221.49212.17100211.86195.41207.83200156.05100243.75215.59213.52214.23208.95209.42220.32219.25223.15250.05227.05207.18181.66185.4163.87300144.57312.24250268.43250244.41260.33333272.97280.07146.6915066.99272.82270.19300273.77170100255.810010010010010050100100100100240.03224.67100100184.51222.04100100228.76194.11250.64191.64223.98237.17220231.18100230.03150252.54260.9525010010050100213.96100213.9550207.46210.31260.03115.84130.53155.45141.87185.13180.03150.11163.67193.78274.61210.98227.65256.91216.69183.06206.7175.88200.46198.31203.14204.77200.68204.76196.38209.23225.25204.85235.28224.21232.35234.72227.32231.59211.48133.85215.71163.21147.34216.68220.39221.14142.97259.85100150150250100221.27160.02241.87193.36209.8227.9350222.66150191.47210217.08220.062501501001001005010072200100150110100100160100100100100100207.99200120501005011612570150154.11348.96100120100190.08186.92126.99100100200391.34423.4100100100270.67217.42131.02259.510060100236.3100100254.97207.88100100248.0210020099.55100100100100100251.56243.9710080185.67165.03180.07169.25181.9216.19182.56170.34125.28190.0350215.23199.38201.215020010020020020020050110110.0570246.52261.12205.7450200190.885050208.2632.05257.2612080.017080180.05200.0120050180.01184.99505092.7420010050.0450215.01200.022005050242.6452189.37139.7167.31151.25216.18207.73357.3115.03162.87235.5192.11100258.29284.41278.0160239.33261.5510010050408010015080501006050160247.59150283.7175.41150100100140149.48100100100100100180.02100.21150150150150150150150150150150100150150150150150197.28100166.5866.81262.42139.47241.75156.49198.49319.36288.65178.18205.77246.93214.31228.49207.3179.89227.53240.87221.28197.35224.44242.9209.19187.23210.75250.9100311.54242.6870.25206.82188.93189.1308.14162.01268.75192.31240.2275.17281.09200.72266.09188.84177.58135.83202.04501501001002008010010023515010080228.07172100200141.2150100130.02120147100150120.0315012515079140130200175153.08150.32149.95150.6130.51168.98153.13161.39176.52149.48137.48148.08171.67100144.571001009.63100100100100100236.110010010010072.42100229.17235.03100100100100155.69200100100109.58247.84238.77181.73181.71205.37133.91219.91183.82167.03164.49131.55225.92134.26187.6207.34186.84235.34233.16219.44229.82236.1100100201.18233.79191165.66235.73242.383029.3642.7250206.14224.64245.02234.2294.38265.15252.99235.86237.12227.67184.87150.33153.875150144.09215.48223.44130.47186.55188.28100282.13188.01118.5201.17150151.3250250.0470160238.54264.7260.25260.3302.08125.2212.39236.49227.18237.16261.93219.21225.2226.52253.9253.48296.93269.48276.36264.22283.47226.15289.02269.89277.28314.7272.05221.51282.21101.69282.61286.98150200273.9271.73200265.28200196.05257.3440250250270.11250334.03284.01251.04287.41259.26217.2510020010080200150100100125.2200150270253.43276.5120090200200200290.02275.0320050198.5300100300245.03200100200200183.1181.03290.08100180236.32180.02183.3200.03184.8200.1250196.43214.29100150200199.4128.36106.37196.81114.42170.76218.79100100137.7886.42175.04217.9100100200238.7150147.7484.44205.72214.0950168.6205.04100110.46205.01194.35204.44173.24215.83185.05196.84230.0720370223.4270187.87234.06220.47185.32234.6217.71170.29160.32207.73198.16148.18210.01187.02180185.8207.22182.03160.1189.99200183.51225100.08175.04200.07162.27185.1915050230235.0184.54112.63180.01220.41224.88161.05237.63165.02215.03189.12182.43198.04205.01184.89195.96218.11138.7202.3199.49195.38192.17184.98195.66505050120120100100.0170235.8223.07238.94228.22256.79200267.45248.38216.14216.4207.34255.52211.74208.56247.83225.31222.35251.98100278.97183.31255.89287.8249.07235.02262.59207.69260.63237.52243.93222.49204.73255.68240.3226.65201.71221.65216.85247.85225.62225.8220.45228.87234.88203.93218.39206.57209.72205.19250.06269.73247.61197.49200180.11120200200200100100100100.01191.91100507010010060259.21211.28243.41265.48233.37230.82240.96251150150.0210010020020050100100200150100100200200200200200200160200200150508020020020020010020023830240.74240232.6238.150100100200.091501007050100120200801008010050150200200300.03100100200100100100150100173.14100100225.03150217.05194.01216.2100100150100177.21200240234.12230.01220.11192.76157.28200200.03200200257.59169.99100191.69100171.2816510010050150.04150136.54195.04100205.025015010050207.45150100195.0210050150215.97100173.15120200197.69189.52206.421002002005020010050150100100100143.150150200150150150100150178.76193.82201.37190191.37275.94231.61249.3860.01146.52100218.74220.0350168.15100217.43193.31128.58215.26100254.76217.88239.93100100100207.59100261.44100266.06100284.75100276.01228.02100279.63123.88228.67262.35150244.81220.54240.69233.87257.81100267.2510050199.091001001001001001006920100100150100100100100250.01280250.7850245.01256.3275.18100150150100230100150100100100150150150150150150150150100150207.6150100150100100200.45231.84234.07222.66188.0150100208.3550246.94194.01150175.02117191.18193.66221.99218.91208.77214.96216.2220.11243.47125.04170162.69186.17230.6100224.1570170.15213.18248.23217.4228.41224.32211.2610010050100100100100100100100100100100100100501504010010010050507010010010060256.28213.67179.41229.16242.88234.86238.02240.24272.53269.76170.78207.97216.3390.09205.47147.88213.03115.55100225.1191.11277.81100100172.13260.77166.53230.68193.79236.23236.97240.15203.57179.84166.49159.88226.02286.02298.04324.82270314.58100100175150170.01200250150150200150100282.15150150150150100100100100200150150120201.76317.37140100100100135100100100100100100100100100100110100100100205.02150200200200293.06250100309.29250305.62200200200427.21200150200275.62200228.14150234.35208.45182.64259.68100100100506.66265.21253.24284.05297.63275.15248.64273.44100100100264.94264.62100120190.06184.06258.31150214.8874.1490.2195.03185.0515037.94150.56135.19171.26223.98160.42207.53263.23122.9280.03117.01233.1229.15149.78259.45214.67194.99106.22184.8471.26100100100198.98231.9674.49163.15222.17242.13162.72100253.96185.43140.01100100193.6850100200.03160201168.345050184.04100161.1310050100173.82165.52265.32223.8410010070185100223.7250241.6950200152.88158.07171.71162.51141.41103.06108.73121.9486.38112.28100133.18114.05155.181001001008073.94194.784016050150179.99150150173.33140150180150150150190.12100120220.56125215.08114.08142.15162.83200180.9198.75120120150145.07175.58201.66179.48110100184.92196.01146.35180150150215.24150100140.11120.2157.07110100110.0590100162.97100200100193.31185.22100100161.08112210.32150148.73130100204.22150160.86150138.18100100100504015010010050100150150100165.06197.38173.12193.7150150100100175.4815015010010015015080100150100150150150150153.56150150150150150150207150150100211.25154.78100170.74150200150189.64150150150150150150150150150150150150150150150100150150150150150100150178.45119.81200190.01268.21188.02188.36150150174.91245150.0112012050150.5110010095.7870127.341202005084100125.65143.5230210.06160.01501804017011550170160.39179.180126.9620040170.01802208010090.01856010050130207.97209.89182.03209.9295.21100100.02189.45140.73130.25163.74169.38279.74100.0210010096.21100808015010070284.67210.69200200250.72150241.24235.72224.55237.44259.581008815015022015521510012697.06177150100117152150147128100263.11200200220.24145.02250100212.07117141.57100148.52237.41250.65267.92138.03178.18237.14270.44150150150150150150180.915018015015010010050308050808080708080808080808050308080100808080808580100100190.9120149.59162.92221.5250225.94162.51100162.41100124.85125.67100100100140204.75207.37209.99160.08100100100150253.77150225.66100133.11157.88170.71160.2158.03168.91149.99150100180150190280150150100170100180180203.58235.63229.6710070204.74238.09197.04100231.21215.02172.76194.74238.54100100100180.05179.87168.16136.81168.23157.12178.52153.5650162.1150220.75150100150189.8100100100172.04211.45160.59190187.1150150208.99193.61120142.95154.02150129.27185157.52150150166.06214.77100505050200100150100100230230230250188.77200244.34261.49260.97270.01190250150308.26298.3250250250250.29250267.14219.98170230140133.52150250250250213.3392.48144.6152.16159.52124.14110.71157.21164.63159.81199.19128.34128.18131.35177.04165.17196.93197.22198.74222.2470144.87150.7144.53141.7890.67140.27143.62162.81149.98106.88180.6490.31152.83147.61160.43144.0298.92147.43162.8160.36224.75170.12140.16200.61225.48135.641501005010050150100275323.11200100235.92218.4100252.56100266.52199.42200.03185.12100205.02205.06100300140.95254.46240.03255.1340269.49100200252.5710025060200289.750295.06234.29253.57100243.26226.24187185.55100280.91130295.61263.47280.28281.9150216.87177.15100100170100100206.03100203.99250226.43245.03251.06250225.032001008050150505050226.910075200200200248.33201.72255.5264.03261.62184.04227.88247.86209.73245.39245.32212.34221.38247.58237.17228.71214.7695.01146.9147.02193.42154.2170.74271.69201.07166.24153.33111.41161.14167.23172.83219.1217.17222.25212.54163.82228.31210.23138.51141.46153152.36136.77184.0410098.36189.51212171.3189.8214510010010050150175.96170.35100801001505050150120150100100150152.021005010010050501005060100100180244.05100250245.122513010010015012050120120175.78130150120112.1112010010012010010010010010013084.4413010010050100100100100100120120130130100.02100100114.44189.72100100254.23215.07239.09218.13142.07236.42100100100200.0256.0673.41100150149.99150190.58100150100190.08100501005050190.65196.51172.53180196.89230.91184.02157.4340100221.09170.8550200.58174.69188.01175.34207.58207.11100272.72299.55264.4234.6280.97267.38216.42266.82100100192.72100505050206.3110010050167.36144.24100144.64100147.84100100155.28166.35167.99251.17218.41206.67189.44207.51157.96173.8560139.42100153.2142.68140.97142.85142.715050153.02155.37201.99144.52181.69197.71100186.92190.89188.1950219.035030703050100707050172.827010010012050807070705030120100404010050506040100505050100188.96176.11100164.14145.31168.07150100138.26132.414.97152.37230.87187.79186.23211.13227.47165.02100173.46261.9147.795080112.0850100501005050100100135.0610010090100100505010010010010080100100501001001001001001001005012050501001005050100100100200.02200100215.01215.04150100200100100215.041001001001501001001005050233.95230.94200200220210.73180.16199.49183.76230.73165.76191.7215.56174.82179.96207.24176.56195.06194.31230.02150200125.01209.932010010090706060706010080601005060606050601007080100184.3560100200226.78100100196.07501505620090150100176.28150200195.44168.69195.6781200204.9200.96705015015010010010013015010010010010015015015080808080806010010080807010080175.32178.31184.58181.1201.67174.08151.7210.15198.38161.38169.2150.93100168.45100111.9415050172.79100100248.0630255.75270.49246.34100239.64231.86237.06233.99241.04150239.2350257.6110010010030100240.1650245.6750308.555020152272.952005020050505015030505030220.98241.77243.48236.74150169.96208.14246.76194.68159.55237.97259.95256.37239.9199.46223.85260.54150100255.74100279.49501005030505050150200225.94130.01100100100244.261501003016050505050160100223.46115139.57131.7850119.99199.98115.265050180.3150130147100120.79501005050100125100100116.77150145.03100119.9910010010013510010010012090402272.94178.11100245.28237.08245.23226.23200200234.12152.98267.69266.34247.96130.57100130201.76240.01255.75252.4850266.97174.3450150264.5251.44272.6535.0450242.22254.61224.4227.17240.14200236.29200.07100158.12234.34237.27227.0715010010015050190.66212.54190200200150200150200.01146.77136.491505050506040100501445098.83100216.04204.11237.28237.04100200150200100100200100193.4510067.37169.58215.01287.79100265.07160.12239.22298.71179.64318.59305.01100206.86100334.0919.95200518.16100299.4210030297.57279.57294.28207.66225.8280.03223.52271.45206.04148.2200.86242.44120280.83217.72150255.1254.44177.91277.0650286.21150100215.07265.81176.46150265.29268.74250300.6280.13200267.6450100257.2120010070317.87331.62203.8710010050100149.68100100227.850100501001006510020015015015060136.915050173.9250100401006010050100505050150505010015050200129.63505010010050100501005070505050505050505010050505050405010050505080.44015010050208.485070605050205.011001005030100100165.1501005050298.81202.02100100200200200200200200200200200100200200200100200200100200200200200160200100100100100100100100100100100200.98100100116100100100100100160.551001002001001001001001001001005015015050137.33150100120.58160.11160.99136.82150.35132.2796.39134.7750150148.05200182.43100207.64149.98150.32145.02803080144.6195.9550100303010050315.32187.07220.02135.04180.04253.06104.92263.24215.04260.06235.13245.1256.66234.35205.14155.03210.03120227.05292.56223.32175.78206.7898.4205.86180.97177.9816045157.6330182.49156.8310065.983.767.848.6269.55192.19125.96147.35128.98146.14245.1546.93182.34185.87150.19158.57160237.65127.65205.88222.5994.26138.55100225.35189.33100100100150100152.6850100505015013010010010050175.03215.19182.66206.170267.470200.01203.69172.09150150150150135.15100260.92287.94334.65190.13188.56168.79149.44308.04249.82219.77200198.33217.6193.85222.66100100203.34212.83209.65200.18200200165.15150143.76179.08210.845060353030194.653050505030303050263.05185.77100150120179.5213.01176.03150.44233.44242.38200244.41223.33100170.02118.9250207.72100200240.22235.61170.11209.56100245.515050263.74190.66256.2258.04258.18257.09211.38196.4291.34264.2212.17286.31147.24178.98250.8186.83294.24191.56307.62294.38158.39209.85273.09261.21264.27241.44211.55188.49143.6783.3397.02153.41152.52181.14197.2913495.09139.3879.14138.7767.2279.05100100100197.71190.05181.94100243.65145.2715010010010080120501005061.310079.98163.0615035200200170.24175.13160.15160160100130120152.985060.77120200179.08200200188.35100125.81150289.4532.0369.45128.81253145.39165.4136.74151.6178.52233.49255.97181.11204.9380131.1250119.6810084.210010062.96117.46505095.0710076.11505010050108.0970100100100100150240.01207.32150194.45100270.3387270.13270.01242.06260.09201.53240.169.12100190.031501902005020022020080229.82605010030237.3150260.99185.03200.7450259.96249.3210.09245.3150180.01241.81200.4650194.67161.59182.85170.87172.95198.06150184.77120150150.0266.65153.52120.93125.012016.03150140.5988.54180.89135.8699.83160230.1616060.01248.44160111.7785.82160239.86231.51220.61218.63214.48101.08222.72176.22119.36206.45232.12157.13189.56120.16153.79130150100142.7716016012248.9228.78170.01168.6620015010070100150115.01153.99215.43180180100228.35100195.63100100195.03227.35229.1245.78240.73223.86232.33231.76256.08256.7251.75254.22242.6251.1250.59233.78244.57233.99120250.19176.91270.68103.35252.48210.04265.96246.3261.14248.78247.57262.35254.74256.26252.53287.25252.53256.59241.19257.88257.96256.94250269.27283.1264.25274.54272.2273.37245.76230.86244.51227.25250.110010010010050254.74215.22256.53202.96222.6133.19191.75234.76193.37177.59113.24166.24100100100100100100126.74100100100100100100100100136.9100100100152.8610088.6510020156.2126.06174.36230.02133.14119.56100107.23158.19161.89181.02100294.66605050215.24200100200200200200200200200100200160200200300300200300200344.7515010015045200100145.04129.988010050234.7635160.65220179.981004030305030305030304025505060200.461008010030119.4940186.7100100131.22227.26209.0810050202.53173.76208.75212.6193.91214.86219.46202.74211.01210.52209.23206.06211.97232.03240.82224.82234.07223.62232.63234.45231.86219.49203.79219.71189.6199.32235.01208.02190.79156.34203.4100235.91260.01250.01247.97150174.02100202.84100223.01252.01246.68229.59200230.02226.33251.12200.03209.98210.05238.270129.98100245.1200160180.03200150100150150100150100100501001005010050299.1210050170.97100150258.22150.1414080365.84356.7307.12342.36100256.08177.28257.99301.15200.03150200198.5725050174.41219.07188.3650200.98100154.455050221.58100258.08100155.0810050100100190.09113.845060186.74214.55227.2100213.18264.76215.58100102.87100139.28100100195.910010010010010010010010070501001001005010050100100100100100100170.5250186.86147.161001001008510010050170212.31233.72230.23239.32167.26234.01251.45243.46240.14230.91143.93229.32223.95189.61187.21212.69186.37242.16219.17220.1227.41200199.5315050150200150200180.24150200150150209.54167.93151.84157.88163.62188137.71173.96157.3184.84189.9175.7185.44151.97100197.79148.88197.52184.21138.66211.34187.87195.74169.14193.63180172.21197.25168.47178.7182.42120174.39162.19189.1450100105105105140.031051053510510510510556.01105105200280.1210010010080100100241.69100239.99100230.44214.04128.55232.26100139.14176.5199.22225.54150150183.92250.04100100243.19245.41151.44101.75216.63255.84242.5147.77256.06249.41248.15222.8230.28104.47247.85265.55200.5253.42100200100150193.7150170170100100100100200200200143.67150100100100100100100215.28173.32264.910010010010010015050260.27139255.96200120100150100150105150148.71150150175.77334.48333.99333.38339.9367.67143.33248.55213.48150238.8216.92198.69221.37179.27177.01150223.91212.3251.21224.98199.99191.51237.17424.575010010050100204.8100210.04191.76100200300.03200.13150266.3316050200100150150250.9915015070150247.85050150232.99150271.59205.76156.55178.65174.0610010010010013010010010010010010050100501001001001005010010010010089.4210010060100.01100117.981001001001001001005010010010050501007050701005050100100100100601007010010010010010010010010010010010010050100120100100100100100100100100100280.01148.4596.4262.9670135.68161.39141.77135.79124.97163.93154.48187.45176.48185.95179.17150128.2810030170.58176.14171.97192.46167.36100143.95100141.18135.98122.7550182.06133.98100147225.1137.3100220.02222.34228.09171.28113.84218.77222.55189.79242.13234.49217.82222.91232.04100202.3250243.24267.3196.271205060601001001006020100216.16100100100201.68201.09196.46100501001506050100225.99100100198.47337.34505082.14188.530100165.0250212.6350100236.82156.6290.18213.34251.97153.42265313.26230.16251.17237.22100225.55183.48111.13231.0120050601005050223.27146.39147.1812010010080200212.42265.0550100177.631001002001001003195.07240.03100215.03113.1930217.06100100100181.1550148.51154.11148.83150.87236.71121.8110050226.72295.85168.21182.85100160.02159.98130.01144.02200200200100100200.53219.78197.45166235.38200.03134.19177.36166.41202.77116.07205.81100100119.6150100.3128.87150.6582.4190100120120163.16175.02100229.63258.71235.52167.45257.1150150247.97150240.36216.93198.1670230.96237100124.79100100120155.746070110116.199090140.33130150226.67149.6720010015010050200100200250250100100248.24100100100100100250.0415030200.03150100200200150100233.742004010010020010050100100100346.45331.24312.07332.21252.7298.46363.32320.62333.28327.29300.35300.41339.23328.31100257.5100178.21246.48171.53100158.9100100336120124.02252.025050129.015050501001005010010050'"
      ]
     },
     "execution_count": 17,
     "metadata": {},
     "output_type": "execute_result"
    }
   ],
   "source": [
    "df.query('txtFornecedor == \"CASCOL COMBUSTIVEIS PARA VEICULOS LTDA\"')['vlrLiquido'].sum()"
   ]
  },
  {
   "cell_type": "code",
   "execution_count": 15,
   "metadata": {},
   "outputs": [],
   "source": [
    "dt_f = df.groupby(['txNomeParlamentar','txtFornecedor']).apply(lambda x: x['vlrLiquido'].sum())"
   ]
  },
  {
   "cell_type": "code",
   "execution_count": 16,
   "metadata": {},
   "outputs": [
    {
     "name": "stdout",
     "output_type": "stream",
     "text": [
      "txNomeParlamentar  txtFornecedor                                               \n",
      "ABEL MESQUITA JR.  ANEXO 4 ASSESSORIA, CONSULTORIA, MARKETING E DIVULGAÇÃO LTDA                                                15000\n",
      "                   AUTO POSTO AEROPORTO LTDA                                                                                      70\n",
      "                   AUTO POSTO PREMIUM LTDA                                                                            1492.811474.33\n",
      "                   AUTO POSTO PREMIUM LTDA - ME                                            1513.821507.242321.672352.52685.642449.33\n",
      "                   Auto Posto JK Ltda.                                                                                           200\n",
      "                   BRASAL COMBUSTIVEIS LTDA                                                                                       70\n",
      "                   CASCOL COMBUSTIVEIS PARA VEICULOS LTDA                          100904016015010010060160100100180.48170.641501...\n",
      "                   CELULAR FUNCIONAL                                               78.0627.3563.519.7241.65368.862.41343.97656.76...\n",
      "                   CORREIOS - CARTA REGISTRADA                                                                             45.342.25\n",
      "                   CORREIOS - ENVELOPE BÁSICO/CONVENCIONAL - PLÁSTICO/BOLHA                                                      3.6\n",
      "                   CORREIOS - SEDEX CONVENCIONAL                                                          224.8367.5633.7616.5970.52\n",
      "                   Cia Aérea - AZUL                                                                          1771.171771.17330812.17\n",
      "                   Cia Aérea - GOL                                                 1126.931805.17507.93886.93631.17531.172021.394...\n",
      "                   Cia Aérea - TAM                                                                             691678.8400.931829.39\n",
      "                   DISTRIBUIDORA BRASILIA DE VEICULOS S A                                                                         50\n",
      "                   EMPRESA RADIO E TELEVISAO DIFUSORA DE RORAIMA - RADIORAIMA                                                   1000\n",
      "                   EMPRESA RADIO E TELEVISÃO DIFUSORA DE RORAIMA                                                        100010001000\n",
      "                   F. DA S. RABELLO                                                                                       4000040000\n",
      "                   FABIO PEREIRA DA SILVA                                               85008500850085008500850085008500850085008500\n",
      "                   INTERLOCAL SERVICOS LTDA                                        1016410184.210302.510432.91036010351100619950....\n",
      "                   LOTTUS CONSULTORIA PESQUISAS E MARKETING EIRELI                                                        4000015000\n",
      "                   LOTTUS CONSULTORIA PESQUISAS E MARKETING IRELI ME                                                 400001500015000\n",
      "                   POSTO DA TORRE EIRELI - EPP                                                                                    50\n",
      "                   RAMAL                                                           8.2211.097.550.69175.2287.11135.3190.9596.5134...\n",
      "ADAIL CARNEIRO     ACROS DOURADOS COMERCIO DE ALIMENTOS LTDA                                                                    19.9\n",
      "                   AEROMATE 1 LANCHES LTDA                                                                                      30.5\n",
      "                   ARCOS DOURADOS COMERCIO DE ALIMENTOS LTDA                                                                    22.9\n",
      "                   ARGOS COMERCIAL E SERVICOS DE LOCACAO LTDA - ME                 1090010900109001090010900109001090010900109001...\n",
      "                   ARGOS COMERCIAL E SERVIÇOS DE LOCACAO LTDA-ME                                                               10900\n",
      "                   BAR E RESTAURANTE PINHEIRO LTDA                                                                              74.4\n",
      "                                                                                                         ...                        \n",
      "ÁTILA LIRA         EMIDIO SOUTO PEREIRA - EPP                                                                                  351.5\n",
      "                   EMPRESA FOLHA DA MANHA S.A.                                                                                 125.9\n",
      "                   Empresa Folha da Manha S.A.                                                                  132.9132.9132.9132.9\n",
      "                   Empresa Folha da Manhã S.A.                                                                                 132.9\n",
      "                   GP COBERTURA JORNALISTICA LTDA ME                                                                            2000\n",
      "                   HOSTEL ARUBA LTDA                                                                                             280\n",
      "                   LEBRE LOCADORA DE VÉCULOS                                                                                33002913\n",
      "                   NET CLARO                                                                                 102.82102.8102.84102.84\n",
      "                   PICEARA TAXI AEREO LTDA                                                                        560073001515017100\n",
      "                   PLENA INFORMATICA LTDA EPP                                                                                    347\n",
      "                   POSTO HOMERO CASTELO BRANCO LTDA                                5725.655819.845762.525790.785802.655846.945812...\n",
      "                   PREDIAL ADMINISTRADORA DE CONDOMINIOS LTDA                      407.77418.34434.03445.28365.47376.4385.85395.8...\n",
      "                   RAMAL                                                           80.9875.6951.2220.174.975.48225.4256.31212.242...\n",
      "                   TELEFONICA BRASIL S.A.                                                     585.7596.41925.381031.821031.821142.19\n",
      "                   TELEFONICA BRASIL S.A. VIVO                                                                        1207.191171.16\n",
      "                   TELEFÔNICA BRASIL S.A. VIVO                                                                               1597.25\n",
      "                   TELEFÔNICA BRASIL S.A. VIVO/GVT                                                                            1012.8\n",
      "                   TELEMAR NORTE LESTE S/A. - EM RECUPERACAO JUDICIAL                                 60.7444.9398.8665.2948.3161.63\n",
      "                   TIM CELULAR S.A                                                                                            569.02\n",
      "                   TIM CELULAR S.A.                                                                                     594.66873.11\n",
      "                   TIM Celular SA                                                                                       760.69695.82\n",
      "                   TIM S/A                                                                                              788.89861.83\n",
      "                   TOP LINE TAXI AÉREO LTDA                                                                                     5400\n",
      "                   Telefônica Brasil S. A. VIVO                                                                              1109.62\n",
      "                   Telefônica Brasil VIVO/GVT                                                                           1165.8359.98\n",
      "                   Tim Celular S A                                                                   671.59759.211264.76676.33699.62\n",
      "                   VIVO                                                                                                      1162.64\n",
      "                   YARA MARIA LIRA PAIVA E SILVA                                                600600600600600600600600600600600600\n",
      "                   claro s.a                                                                                                     101\n",
      "                   eletrobras distribuicao piaui                                    58.5839.0573.84404.41176.2224.9924.9959.99354.31\n",
      "Length: 57328, dtype: object\n"
     ]
    }
   ],
   "source": [
    "print(dt_f)"
   ]
  },
  {
   "cell_type": "code",
   "execution_count": 5,
   "metadata": {},
   "outputs": [
    {
     "ename": "NameError",
     "evalue": "name 'dt_f' is not defined",
     "output_type": "error",
     "traceback": [
      "\u001b[1;31m---------------------------------------------------------------------------\u001b[0m",
      "\u001b[1;31mNameError\u001b[0m                                 Traceback (most recent call last)",
      "\u001b[1;32m<ipython-input-5-4904fb2a03e8>\u001b[0m in \u001b[0;36m<module>\u001b[1;34m\u001b[0m\n\u001b[1;32m----> 1\u001b[1;33m dt_f.groupby(\n\u001b[0m\u001b[0;32m      2\u001b[0m     by=['txtFornecedor'])['VALOR_TARIFA'].sum()\n",
      "\u001b[1;31mNameError\u001b[0m: name 'dt_f' is not defined"
     ]
    }
   ],
   "source": [
    "dt_f.groupby(\n",
    "    by=['txtFornecedor'])['VALOR_TARIFA'].sum()"
   ]
  },
  {
   "cell_type": "code",
   "execution_count": 7,
   "metadata": {},
   "outputs": [
    {
     "ename": "NameError",
     "evalue": "name 'df' is not defined",
     "output_type": "error",
     "traceback": [
      "\u001b[1;31m---------------------------------------------------------------------------\u001b[0m",
      "\u001b[1;31mNameError\u001b[0m                                 Traceback (most recent call last)",
      "\u001b[1;32m<ipython-input-7-06084b956dd1>\u001b[0m in \u001b[0;36m<module>\u001b[1;34m\u001b[0m\n\u001b[1;32m----> 1\u001b[1;33m dt_f= df.groupby(\n\u001b[0m\u001b[0;32m      2\u001b[0m     by=['txtFornecedor'])['VALOR_TARIFA'].sum()\n",
      "\u001b[1;31mNameError\u001b[0m: name 'df' is not defined"
     ]
    }
   ],
   "source": [
    "dt_f= df.groupby(\n",
    "    by=['txtFornecedor'])['VALOR_TARIFA'].sum()"
   ]
  }
 ],
 "metadata": {
  "kernelspec": {
   "display_name": "Python 3",
   "language": "python",
   "name": "python3"
  },
  "language_info": {
   "codemirror_mode": {
    "name": "ipython",
    "version": 3
   },
   "file_extension": ".py",
   "mimetype": "text/x-python",
   "name": "python",
   "nbconvert_exporter": "python",
   "pygments_lexer": "ipython3",
   "version": "3.7.0"
  }
 },
 "nbformat": 4,
 "nbformat_minor": 2
}
